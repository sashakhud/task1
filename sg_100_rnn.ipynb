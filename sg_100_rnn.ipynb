{
 "cells": [
  {
   "cell_type": "code",
   "execution_count": 1,
   "id": "21ce08da-b229-4de7-93dc-bc1faaafc998",
   "metadata": {
    "tags": []
   },
   "outputs": [],
   "source": [
    "import pandas as pd\n",
    "import numpy as np\n",
    "import random\n",
    "import re\n",
    "import nltk\n",
    "from pprint import pprint\n",
    "from nltk.corpus import stopwords\n",
    "from nltk import word_tokenize\n",
    "import pymorphy3\n",
    "from string import punctuation\n",
    "from string import digits\n",
    "import gensim\n",
    "from gensim.utils import simple_preprocess\n",
    "import gensim.corpora as corpora\n",
    "from pymystem3 import Mystem\n",
    "from gensim.models import Word2Vec\n",
    "from sklearn.model_selection import train_test_split, ParameterGrid\n",
    "from sklearn.preprocessing import LabelEncoder\n",
    "from sklearn.utils import shuffle\n",
    "import tensorflow as tf\n",
    "from sklearn.metrics import accuracy_score, f1_score, precision_score, recall_score, classification_report, confusion_matrix\n",
    "from sklearn import metrics\n",
    "import time, psutil, os\n",
    "from sklearn.feature_extraction.text import TfidfVectorizer\n",
    "from sklearn.linear_model import LogisticRegression\n",
    "from sklearn.neighbors import KNeighborsClassifier\n",
    "from sklearn.tree import DecisionTreeClassifier\n",
    "from sklearn import svm\n",
    "from sklearn.ensemble import RandomForestClassifier\n",
    "from sklearn.linear_model import SGDClassifier\n",
    "from sklearn.linear_model import RidgeClassifier\n",
    "from xgboost import XGBClassifier\n",
    "from sklearn.ensemble import AdaBoostClassifier\n",
    "from sklearn.metrics import accuracy_score\n",
    "import matplotlib\n",
    "import matplotlib.pyplot as plt\n",
    "import matplotlib.patches as mpatches\n",
    "import seaborn as sns\n",
    "sns.set_theme()\n",
    "import scipy\n",
    "from scipy import sparse\n",
    "from scipy.sparse import csr_matrix\n",
    "from sklearn.decomposition import TruncatedSVD\n",
    "from gensim.models import KeyedVectors\n",
    "russian_stopwords = stopwords.words(\"russian\")\n",
    "from keras.models import Sequential\n",
    "from keras.layers import LSTM, Dense, Embedding, Dropout, Input, BatchNormalization, SimpleRNN, Bidirectional\n",
    "from tensorflow.keras import Model\n",
    "from tensorflow.keras.optimizers import Adam\n",
    "from keras_preprocessing.sequence import pad_sequences\n",
    "from tqdm import tqdm\n",
    "from keras.preprocessing import sequence, text\n",
    "from keras.callbacks import EarlyStopping, ModelCheckpoint"
   ]
  },
  {
   "cell_type": "code",
   "execution_count": 2,
   "id": "25b35a9d-8592-4c8d-bd7a-e8dfc6f2cb21",
   "metadata": {},
   "outputs": [],
   "source": [
    "new_words=('фото', 'splash', 'news/all', 'over', 'press', 'globallookpress', 'photographer')"
   ]
  },
  {
   "cell_type": "code",
   "execution_count": 3,
   "id": "0c011f9a-2044-4099-bfab-f70b84a76a71",
   "metadata": {},
   "outputs": [],
   "source": [
    "random.seed(2020)"
   ]
  },
  {
   "cell_type": "code",
   "execution_count": 4,
   "id": "e4f78ecd-341d-45a8-9d69-5c8073c9a104",
   "metadata": {
    "tags": []
   },
   "outputs": [],
   "source": [
    "df = pd.read_csv('sport_and_nauka_and_showbiz_full_dataset_1095_shuffle_new.csv')"
   ]
  },
  {
   "cell_type": "code",
   "execution_count": 5,
   "id": "dde43d6d-724a-407d-96d6-5c9c436978b2",
   "metadata": {
    "tags": []
   },
   "outputs": [
    {
     "data": {
      "text/html": [
       "<div>\n",
       "<style scoped>\n",
       "    .dataframe tbody tr th:only-of-type {\n",
       "        vertical-align: middle;\n",
       "    }\n",
       "\n",
       "    .dataframe tbody tr th {\n",
       "        vertical-align: top;\n",
       "    }\n",
       "\n",
       "    .dataframe thead th {\n",
       "        text-align: right;\n",
       "    }\n",
       "</style>\n",
       "<table border=\"1\" class=\"dataframe\">\n",
       "  <thead>\n",
       "    <tr style=\"text-align: right;\">\n",
       "      <th></th>\n",
       "      <th>URL</th>\n",
       "      <th>Text</th>\n",
       "      <th>Title</th>\n",
       "      <th>Class</th>\n",
       "    </tr>\n",
       "  </thead>\n",
       "  <tbody>\n",
       "    <tr>\n",
       "      <th>0</th>\n",
       "      <td>https://7days.ru/news/ego-razvedut-na-bablo-bi...</td>\n",
       "      <td>Диме Билану декабре исполнится 40 лет, он до с...</td>\n",
       "      <td>«Его разведут на бабло»: Билана после свадьбы ...</td>\n",
       "      <td>ШОУ-БИЗНЕС СЛУХИ</td>\n",
       "    </tr>\n",
       "    <tr>\n",
       "      <th>1</th>\n",
       "      <td>https://argumenti.ru/showbiz/2020/04/660300</td>\n",
       "      <td>Известная актриса Светлана Ходченкова поделила...</td>\n",
       "      <td>Ходченкова покорила поклонников в элегантном н...</td>\n",
       "      <td>ШОУ-БИЗНЕС</td>\n",
       "    </tr>\n",
       "    <tr>\n",
       "      <th>2</th>\n",
       "      <td>https://7days.ru/news/brosil-zhenu-kutsenko-po...</td>\n",
       "      <td>Гоша Куценко накануне посетил премьеру фильма ...</td>\n",
       "      <td>Бросил жену? Куценко появился на публике с бер...</td>\n",
       "      <td>ШОУ-БИЗНЕС СЛУХИ</td>\n",
       "    </tr>\n",
       "    <tr>\n",
       "      <th>3</th>\n",
       "      <td>https://7days.ru/news/o-sostoyanii-docheri-uit...</td>\n",
       "      <td>Дочь Уитни Хьюстон, Бобби Кристина Браун была ...</td>\n",
       "      <td>О состоянии дочери Уитни Хьюстон поступают про...</td>\n",
       "      <td>ШОУ-БИЗНЕС СЛУХИ</td>\n",
       "    </tr>\n",
       "    <tr>\n",
       "      <th>4</th>\n",
       "      <td>https://argumenti.ru/science/2017/01/518254</td>\n",
       "      <td>Важное открытие сделали ученые, представляющие...</td>\n",
       "      <td>Ученые рассказали, когда человек начинает стареть</td>\n",
       "      <td>НАУКА СЛУХИ</td>\n",
       "    </tr>\n",
       "    <tr>\n",
       "      <th>...</th>\n",
       "      <td>...</td>\n",
       "      <td>...</td>\n",
       "      <td>...</td>\n",
       "      <td>...</td>\n",
       "    </tr>\n",
       "    <tr>\n",
       "      <th>6565</th>\n",
       "      <td>https://7days.ru/news/zakon-on-ne-narushal-pri...</td>\n",
       "      <td>Даня Милохин около недели назад предпринял поп...</td>\n",
       "      <td>«Закон он не нарушал»: приемный отец рассказал...</td>\n",
       "      <td>ШОУ-БИЗНЕС СЛУХИ</td>\n",
       "    </tr>\n",
       "    <tr>\n",
       "      <th>6566</th>\n",
       "      <td>https://argumenti.ru/science/2016/08/463230</td>\n",
       "      <td>Позитивный настрой просто хорошее настроение ч...</td>\n",
       "      <td>Позитивный подход усиливает эффективность спор...</td>\n",
       "      <td>НАУКА СЛУХИ</td>\n",
       "    </tr>\n",
       "    <tr>\n",
       "      <th>6567</th>\n",
       "      <td>https://argumenti.ru/science/2019/12/643864</td>\n",
       "      <td>Ученые из Гронингенского университета провели ...</td>\n",
       "      <td>Ученые предрекли Европе сильное похолодание в ...</td>\n",
       "      <td>НАУКА СЛУХИ</td>\n",
       "    </tr>\n",
       "    <tr>\n",
       "      <th>6568</th>\n",
       "      <td>https://www.sports.ru/football/1110514050-rubi...</td>\n",
       "      <td>Защитник Монтассар Тальби покинул «Рубин» прод...</td>\n",
       "      <td>«Рубин» продал Тальби «Лорьяну». Защитник сбор...</td>\n",
       "      <td>СПОРТ</td>\n",
       "    </tr>\n",
       "    <tr>\n",
       "      <th>6569</th>\n",
       "      <td>https://7days.ru/news/konstantin-meladze-rassk...</td>\n",
       "      <td>Отношения певицы Веры Брежневой продюсера Конс...</td>\n",
       "      <td>Константин Меладзе рассказал, зачем ездит в го...</td>\n",
       "      <td>ШОУ-БИЗНЕС</td>\n",
       "    </tr>\n",
       "  </tbody>\n",
       "</table>\n",
       "<p>6570 rows × 4 columns</p>\n",
       "</div>"
      ],
      "text/plain": [
       "                                                    URL  \\\n",
       "0     https://7days.ru/news/ego-razvedut-na-bablo-bi...   \n",
       "1           https://argumenti.ru/showbiz/2020/04/660300   \n",
       "2     https://7days.ru/news/brosil-zhenu-kutsenko-po...   \n",
       "3     https://7days.ru/news/o-sostoyanii-docheri-uit...   \n",
       "4           https://argumenti.ru/science/2017/01/518254   \n",
       "...                                                 ...   \n",
       "6565  https://7days.ru/news/zakon-on-ne-narushal-pri...   \n",
       "6566        https://argumenti.ru/science/2016/08/463230   \n",
       "6567        https://argumenti.ru/science/2019/12/643864   \n",
       "6568  https://www.sports.ru/football/1110514050-rubi...   \n",
       "6569  https://7days.ru/news/konstantin-meladze-rassk...   \n",
       "\n",
       "                                                   Text  \\\n",
       "0     Диме Билану декабре исполнится 40 лет, он до с...   \n",
       "1     Известная актриса Светлана Ходченкова поделила...   \n",
       "2     Гоша Куценко накануне посетил премьеру фильма ...   \n",
       "3     Дочь Уитни Хьюстон, Бобби Кристина Браун была ...   \n",
       "4     Важное открытие сделали ученые, представляющие...   \n",
       "...                                                 ...   \n",
       "6565  Даня Милохин около недели назад предпринял поп...   \n",
       "6566  Позитивный настрой просто хорошее настроение ч...   \n",
       "6567  Ученые из Гронингенского университета провели ...   \n",
       "6568  Защитник Монтассар Тальби покинул «Рубин» прод...   \n",
       "6569  Отношения певицы Веры Брежневой продюсера Конс...   \n",
       "\n",
       "                                                  Title             Class  \n",
       "0     «Его разведут на бабло»: Билана после свадьбы ...  ШОУ-БИЗНЕС СЛУХИ  \n",
       "1     Ходченкова покорила поклонников в элегантном н...        ШОУ-БИЗНЕС  \n",
       "2     Бросил жену? Куценко появился на публике с бер...  ШОУ-БИЗНЕС СЛУХИ  \n",
       "3     О состоянии дочери Уитни Хьюстон поступают про...  ШОУ-БИЗНЕС СЛУХИ  \n",
       "4     Ученые рассказали, когда человек начинает стареть       НАУКА СЛУХИ  \n",
       "...                                                 ...               ...  \n",
       "6565  «Закон он не нарушал»: приемный отец рассказал...  ШОУ-БИЗНЕС СЛУХИ  \n",
       "6566  Позитивный подход усиливает эффективность спор...       НАУКА СЛУХИ  \n",
       "6567  Ученые предрекли Европе сильное похолодание в ...       НАУКА СЛУХИ  \n",
       "6568  «Рубин» продал Тальби «Лорьяну». Защитник сбор...             СПОРТ  \n",
       "6569  Константин Меладзе рассказал, зачем ездит в го...        ШОУ-БИЗНЕС  \n",
       "\n",
       "[6570 rows x 4 columns]"
      ]
     },
     "execution_count": 5,
     "metadata": {},
     "output_type": "execute_result"
    }
   ],
   "source": [
    "df"
   ]
  },
  {
   "cell_type": "code",
   "execution_count": 6,
   "id": "33a4dde0-444b-4981-a565-cb0ee27c9e54",
   "metadata": {
    "tags": []
   },
   "outputs": [],
   "source": [
    "encoder = LabelEncoder()"
   ]
  },
  {
   "cell_type": "code",
   "execution_count": 7,
   "id": "77a58c49-f3a1-45d9-85ea-3ebfd4de9ac4",
   "metadata": {
    "tags": []
   },
   "outputs": [],
   "source": [
    "df['ClassEncoded'] = encoder.fit_transform(df['Class'])"
   ]
  },
  {
   "cell_type": "code",
   "execution_count": 8,
   "id": "a462733a-177a-4169-9c8e-ce2273471dab",
   "metadata": {},
   "outputs": [],
   "source": [
    "df['Text'] = df['Text'].str.slice(0,1350)"
   ]
  },
  {
   "cell_type": "code",
   "execution_count": 9,
   "id": "8ba1ec8b-cb05-4626-9267-0938bd9aa85a",
   "metadata": {},
   "outputs": [],
   "source": [
    "df['Text'] = df['Text'].apply(lambda x: ' '.join(x.split(' ')[:-1]))"
   ]
  },
  {
   "cell_type": "code",
   "execution_count": 10,
   "id": "26de5630-1c81-4dfb-a99e-46191f98c215",
   "metadata": {
    "tags": []
   },
   "outputs": [],
   "source": [
    "morph = pymorphy3.MorphAnalyzer()"
   ]
  },
  {
   "cell_type": "code",
   "execution_count": 11,
   "id": "0c60701c-d982-496d-a541-89f227d17951",
   "metadata": {
    "tags": []
   },
   "outputs": [],
   "source": [
    "def process(text):\n",
    "    return list(t.lower() for t in nltk.word_tokenize(text) if t.lower() not in new_words)"
   ]
  },
  {
   "cell_type": "code",
   "execution_count": 12,
   "id": "61f00999-6c78-4fcd-8372-c1aa7dfec4be",
   "metadata": {
    "tags": []
   },
   "outputs": [],
   "source": [
    "data = [process(t) for t in df['Text'][:]]"
   ]
  },
  {
   "cell_type": "code",
   "execution_count": 13,
   "id": "812b9fc5-90a4-4385-b10a-d3a320fb7af6",
   "metadata": {
    "tags": []
   },
   "outputs": [
    {
     "data": {
      "text/plain": [
       "['диме',\n",
       " 'билану',\n",
       " 'декабре',\n",
       " 'исполнится',\n",
       " '40',\n",
       " 'лет',\n",
       " ',',\n",
       " 'он',\n",
       " 'до',\n",
       " 'сих',\n",
       " 'пор',\n",
       " 'ни',\n",
       " 'разу',\n",
       " 'не',\n",
       " 'был',\n",
       " 'женат',\n",
       " '.',\n",
       " 'сначала',\n",
       " 'ему',\n",
       " 'было',\n",
       " 'не',\n",
       " 'до',\n",
       " 'этого',\n",
       " 'певец',\n",
       " 'строил',\n",
       " 'карьеру',\n",
       " 'был',\n",
       " 'сосредоточен',\n",
       " 'на',\n",
       " 'работе',\n",
       " '.',\n",
       " 'сейчас',\n",
       " 'же',\n",
       " 'жизни',\n",
       " 'артиста',\n",
       " ',',\n",
       " 'как',\n",
       " 'говорят',\n",
       " ',',\n",
       " 'многое',\n",
       " 'изменилось',\n",
       " '.',\n",
       " 'он',\n",
       " 'якобы',\n",
       " 'живет',\n",
       " 'некой',\n",
       " 'аленой',\n",
       " 'усачевой',\n",
       " ',',\n",
       " 'одной',\n",
       " 'из',\n",
       " 'его',\n",
       " 'фанаток',\n",
       " '.',\n",
       " 'говорят',\n",
       " ',',\n",
       " 'что',\n",
       " 'билан',\n",
       " 'даже',\n",
       " 'собирается',\n",
       " 'сделать',\n",
       " 'ей',\n",
       " 'предложение',\n",
       " ',',\n",
       " 'однако',\n",
       " 'против',\n",
       " 'свадьбы',\n",
       " 'выступает',\n",
       " 'яна',\n",
       " 'рудковская',\n",
       " '.',\n",
       " 'светская',\n",
       " 'львица',\n",
       " 'считает',\n",
       " ',',\n",
       " 'что',\n",
       " 'женитьба',\n",
       " 'может',\n",
       " 'негативно',\n",
       " 'сказать',\n",
       " 'на',\n",
       " 'творческих',\n",
       " 'успехах',\n",
       " 'билана',\n",
       " '.',\n",
       " 'кроме',\n",
       " 'того',\n",
       " ',',\n",
       " 'она',\n",
       " 'подозревает',\n",
       " ',',\n",
       " 'что',\n",
       " 'певца',\n",
       " 'могут',\n",
       " 'использовать',\n",
       " '.',\n",
       " 'не',\n",
       " 'секрет',\n",
       " ',',\n",
       " 'что',\n",
       " 'дима',\n",
       " 'богатый',\n",
       " 'человек',\n",
       " 'его',\n",
       " 'деньги',\n",
       " 'могут',\n",
       " 'привлечь',\n",
       " 'внимание',\n",
       " 'мошенников',\n",
       " '«',\n",
       " 'вообще',\n",
       " 'диме',\n",
       " 'ни',\n",
       " 'чему',\n",
       " 'жениться',\n",
       " '.',\n",
       " 'потому',\n",
       " 'что',\n",
       " 'его',\n",
       " 'разведут',\n",
       " 'на',\n",
       " 'бабло',\n",
       " ',',\n",
       " 'бабла',\n",
       " 'дима',\n",
       " 'много',\n",
       " 'зарабатывает',\n",
       " '.',\n",
       " 'пусть',\n",
       " 'пока',\n",
       " 'просто',\n",
       " 'так',\n",
       " 'гуляет',\n",
       " '!',\n",
       " '»',\n",
       " '—',\n",
       " 'цитирует',\n",
       " 'рудковскую',\n",
       " 'эг',\n",
       " '.',\n",
       " 'кстати',\n",
       " ',',\n",
       " 'звездная',\n",
       " 'блондинка',\n",
       " 'не',\n",
       " 'стала',\n",
       " 'отрицать',\n",
       " ',',\n",
       " 'что',\n",
       " 'билан',\n",
       " 'много',\n",
       " 'времени',\n",
       " 'проводит',\n",
       " 'компании',\n",
       " 'усачевой',\n",
       " ',',\n",
       " 'но',\n",
       " 'статус',\n",
       " 'их',\n",
       " 'отношений',\n",
       " 'решила',\n",
       " 'не',\n",
       " 'раскрывать',\n",
       " '.',\n",
       " '«',\n",
       " 'она',\n",
       " 'хорошая',\n",
       " 'девочка',\n",
       " ',',\n",
       " 'преданная',\n",
       " '.',\n",
       " 'что',\n",
       " 'он',\n",
       " 'там',\n",
       " 'ней',\n",
       " 'делает',\n",
       " 'меня',\n",
       " 'это',\n",
       " 'абсолютно',\n",
       " 'не',\n",
       " 'интересует',\n",
       " '»',\n",
       " ',',\n",
       " 'говорит',\n",
       " 'рудковская',\n",
       " 'работа',\n",
       " 'хостес',\n",
       " 'планы',\n",
       " 'на',\n",
       " '«',\n",
       " 'евровидение',\n",
       " '»',\n",
       " ':',\n",
       " 'сестра',\n",
       " 'димы',\n",
       " 'билана',\n",
       " 'раскрыла',\n",
       " 'все',\n",
       " 'секреты',\n",
       " 'читать',\n",
       " 'материал',\n",
       " 'кстати',\n",
       " ',',\n",
       " 'этой',\n",
       " 'осенью',\n",
       " 'стало',\n",
       " 'известно',\n",
       " ',',\n",
       " 'что',\n",
       " 'билан',\n",
       " 'вошел',\n",
       " 'число',\n",
       " 'артистов',\n",
       " 'продюсерского',\n",
       " 'центра',\n",
       " 'арама',\n",
       " 'арчера',\n",
       " '.',\n",
       " 'при',\n",
       " 'это',\n",
       " 'певец',\n",
       " 'не',\n",
       " 'прекратил',\n",
       " 'сотрудничество',\n",
       " 'рудковской',\n",
       " ',',\n",
       " 'которая',\n",
       " 'по-прежнему',\n",
       " 'занимается',\n",
       " 'организацией',\n",
       " 'его',\n",
       " 'гастролей']"
      ]
     },
     "execution_count": 13,
     "metadata": {},
     "output_type": "execute_result"
    }
   ],
   "source": [
    "data[0]"
   ]
  },
  {
   "cell_type": "code",
   "execution_count": 14,
   "id": "64d78f25-84ef-4ec2-a443-ce6a65002c35",
   "metadata": {
    "tags": []
   },
   "outputs": [],
   "source": [
    "def lemmatizer(texts):\n",
    "    return [[morph.parse(word)[0] for word in text] for text in texts]"
   ]
  },
  {
   "cell_type": "code",
   "execution_count": 15,
   "id": "e289a0a5-ba3f-49f2-8269-ac3bfedb1128",
   "metadata": {
    "tags": []
   },
   "outputs": [],
   "source": [
    "morph_data = lemmatizer(data)"
   ]
  },
  {
   "cell_type": "code",
   "execution_count": 16,
   "id": "7270f9f8-97ca-46f2-9189-36ce102ccdeb",
   "metadata": {
    "tags": []
   },
   "outputs": [
    {
     "data": {
      "text/plain": [
       "[Parse(word='диме', tag=OpencorporaTag('NOUN,anim,masc,Name sing,datv'), normal_form='дима', score=0.4, methods_stack=((DictionaryAnalyzer(), 'диме', 631, 2),)),\n",
       " Parse(word='билану', tag=OpencorporaTag('NOUN,anim,masc,Name sing,datv'), normal_form='билан', score=1.0, methods_stack=((DictionaryAnalyzer(), 'билану', 27, 2),)),\n",
       " Parse(word='декабре', tag=OpencorporaTag('NOUN,inan,masc sing,loct'), normal_form='декабрь', score=1.0, methods_stack=((DictionaryAnalyzer(), 'декабре', 195, 5),)),\n",
       " Parse(word='исполнится', tag=OpencorporaTag('VERB,perf,intr sing,3per,futr,indc'), normal_form='исполниться', score=1.0, methods_stack=((DictionaryAnalyzer(), 'исполнится', 652, 9),)),\n",
       " Parse(word='40', tag=OpencorporaTag('NUMB,intg'), normal_form='40', score=1.0, methods_stack=((NumberAnalyzer(score=0.9), '40'),)),\n",
       " Parse(word='лет', tag=OpencorporaTag('NOUN,inan,masc plur,gent'), normal_form='год', score=0.998492, methods_stack=((DictionaryAnalyzer(), 'лет', 1221, 11),)),\n",
       " Parse(word=',', tag=OpencorporaTag('PNCT'), normal_form=',', score=1.0, methods_stack=((PunctuationAnalyzer(score=0.9), ','),)),\n",
       " Parse(word='он', tag=OpencorporaTag('NPRO,masc,3per,Anph sing,nomn'), normal_form='он', score=1.0, methods_stack=((DictionaryAnalyzer(), 'он', 2303, 0),)),\n",
       " Parse(word='до', tag=OpencorporaTag('PREP'), normal_form='до', score=1.0, methods_stack=((DictionaryAnalyzer(), 'до', 24, 0),)),\n",
       " Parse(word='сих', tag=OpencorporaTag('ADJF,Subx,Apro plur,gent'), normal_form='сей', score=0.985645, methods_stack=((DictionaryAnalyzer(), 'сих', 2863, 20),)),\n",
       " Parse(word='пор', tag=OpencorporaTag('NOUN,inan,femn plur,gent'), normal_form='пора', score=1.0, methods_stack=((DictionaryAnalyzer(), 'пор', 55, 8),)),\n",
       " Parse(word='ни', tag=OpencorporaTag('PRCL'), normal_form='ни', score=0.722222, methods_stack=((DictionaryAnalyzer(), 'ни', 22, 0),)),\n",
       " Parse(word='разу', tag=OpencorporaTag('NOUN,inan,masc sing,gen2'), normal_form='раз', score=0.891304, methods_stack=((DictionaryAnalyzer(), 'разу', 2743, 12),)),\n",
       " Parse(word='не', tag=OpencorporaTag('PRCL'), normal_form='не', score=1.0, methods_stack=((DictionaryAnalyzer(), 'не', 22, 0),)),\n",
       " Parse(word='был', tag=OpencorporaTag('VERB,impf,intr masc,sing,past,indc'), normal_form='быть', score=1.0, methods_stack=((DictionaryAnalyzer(), 'был', 620, 4),)),\n",
       " Parse(word='женат', tag=OpencorporaTag('ADJS,Qual masc,sing'), normal_form='женатый', score=1.0, methods_stack=((DictionaryAnalyzer(), 'женат', 4, 27),)),\n",
       " Parse(word='.', tag=OpencorporaTag('PNCT'), normal_form='.', score=1.0, methods_stack=((PunctuationAnalyzer(score=0.9), '.'),)),\n",
       " Parse(word='сначала', tag=OpencorporaTag('ADVB'), normal_form='сначала', score=1.0, methods_stack=((DictionaryAnalyzer(), 'сначала', 3, 0),)),\n",
       " Parse(word='ему', tag=OpencorporaTag('NPRO,masc,3per,Anph sing,datv'), normal_form='он', score=0.857142, methods_stack=((DictionaryAnalyzer(), 'ему', 2303, 3),)),\n",
       " Parse(word='было', tag=OpencorporaTag('VERB,impf,intr neut,sing,past,indc'), normal_form='быть', score=0.96544, methods_stack=((DictionaryAnalyzer(), 'было', 620, 6),)),\n",
       " Parse(word='не', tag=OpencorporaTag('PRCL'), normal_form='не', score=1.0, methods_stack=((DictionaryAnalyzer(), 'не', 22, 0),)),\n",
       " Parse(word='до', tag=OpencorporaTag('PREP'), normal_form='до', score=1.0, methods_stack=((DictionaryAnalyzer(), 'до', 24, 0),)),\n",
       " Parse(word='этого', tag=OpencorporaTag('NPRO,neut sing,gent'), normal_form='это', score=0.729, methods_stack=((DictionaryAnalyzer(), 'этого', 3240, 1),)),\n",
       " Parse(word='певец', tag=OpencorporaTag('NOUN,anim,masc sing,nomn'), normal_form='певец', score=1.0, methods_stack=((DictionaryAnalyzer(), 'певец', 538, 0),)),\n",
       " Parse(word='строил', tag=OpencorporaTag('VERB,impf,tran masc,sing,past,indc'), normal_form='строить', score=0.5, methods_stack=((DictionaryAnalyzer(), 'строил', 447, 7),)),\n",
       " Parse(word='карьеру', tag=OpencorporaTag('NOUN,inan,femn sing,accs'), normal_form='карьера', score=0.96875, methods_stack=((DictionaryAnalyzer(), 'карьеру', 55, 3),)),\n",
       " Parse(word='был', tag=OpencorporaTag('VERB,impf,intr masc,sing,past,indc'), normal_form='быть', score=1.0, methods_stack=((DictionaryAnalyzer(), 'был', 620, 4),)),\n",
       " Parse(word='сосредоточен', tag=OpencorporaTag('PRTS,perf,past,pssv masc,sing'), normal_form='сосредоточить', score=1.0, methods_stack=((DictionaryAnalyzer(), 'сосредоточен', 990, 71),)),\n",
       " Parse(word='на', tag=OpencorporaTag('PREP'), normal_form='на', score=0.998961, methods_stack=((DictionaryAnalyzer(), 'на', 24, 0),)),\n",
       " Parse(word='работе', tag=OpencorporaTag('NOUN,inan,femn sing,loct'), normal_form='работа', score=0.75, methods_stack=((DictionaryAnalyzer(), 'работе', 55, 6),)),\n",
       " Parse(word='.', tag=OpencorporaTag('PNCT'), normal_form='.', score=1.0, methods_stack=((PunctuationAnalyzer(score=0.9), '.'),)),\n",
       " Parse(word='сейчас', tag=OpencorporaTag('ADVB'), normal_form='сейчас', score=1.0, methods_stack=((DictionaryAnalyzer(), 'сейчас', 2864, 0),)),\n",
       " Parse(word='же', tag=OpencorporaTag('PRCL'), normal_form='же', score=0.840909, methods_stack=((DictionaryAnalyzer(), 'же', 22, 0),)),\n",
       " Parse(word='жизни', tag=OpencorporaTag('NOUN,inan,femn sing,gent'), normal_form='жизнь', score=0.642752, methods_stack=((DictionaryAnalyzer(), 'жизни', 13, 1),)),\n",
       " Parse(word='артиста', tag=OpencorporaTag('NOUN,anim,masc sing,gent'), normal_form='артист', score=0.833333, methods_stack=((DictionaryAnalyzer(), 'артиста', 52, 1),)),\n",
       " Parse(word=',', tag=OpencorporaTag('PNCT'), normal_form=',', score=1.0, methods_stack=((PunctuationAnalyzer(score=0.9), ','),)),\n",
       " Parse(word='как', tag=OpencorporaTag('CONJ'), normal_form='как', score=0.827586, methods_stack=((DictionaryAnalyzer(), 'как', 1751, 0),)),\n",
       " Parse(word='говорят', tag=OpencorporaTag('VERB,impf,tran plur,3per,pres,indc'), normal_form='говорить', score=0.842794, methods_stack=((DictionaryAnalyzer(), 'говорят', 415, 6),)),\n",
       " Parse(word=',', tag=OpencorporaTag('PNCT'), normal_form=',', score=1.0, methods_stack=((PunctuationAnalyzer(score=0.9), ','),)),\n",
       " Parse(word='многое', tag=OpencorporaTag('NPRO,neut sing,accs'), normal_form='многое', score=0.55, methods_stack=((DictionaryAnalyzer(), 'многое', 1011, 3),)),\n",
       " Parse(word='изменилось', tag=OpencorporaTag('VERB,perf,intr neut,sing,past,indc'), normal_form='измениться', score=1.0, methods_stack=((DictionaryAnalyzer(), 'изменилось', 652, 3),)),\n",
       " Parse(word='.', tag=OpencorporaTag('PNCT'), normal_form='.', score=1.0, methods_stack=((PunctuationAnalyzer(score=0.9), '.'),)),\n",
       " Parse(word='он', tag=OpencorporaTag('NPRO,masc,3per,Anph sing,nomn'), normal_form='он', score=1.0, methods_stack=((DictionaryAnalyzer(), 'он', 2303, 0),)),\n",
       " Parse(word='якобы', tag=OpencorporaTag('CONJ'), normal_form='якобы', score=0.3333333333333333, methods_stack=((DictionaryAnalyzer(), 'якобы', 20, 0),)),\n",
       " Parse(word='живёт', tag=OpencorporaTag('VERB,impf,intr sing,3per,pres,indc'), normal_form='жить', score=1.0, methods_stack=((DictionaryAnalyzer(), 'живёт', 1491, 5),)),\n",
       " Parse(word='некой', tag=OpencorporaTag('ADJF,Apro femn,sing,gent'), normal_form='некий', score=0.5, methods_stack=((DictionaryAnalyzer(), 'некой', 2163, 10),)),\n",
       " Parse(word='алёной', tag=OpencorporaTag('NOUN,anim,femn,Name sing,ablt'), normal_form='алёна', score=1.0, methods_stack=((DictionaryAnalyzer(), 'алёной', 69, 4),)),\n",
       " Parse(word='усачёвой', tag=OpencorporaTag('NOUN,anim,femn,Sgtm,Surn sing,gent'), normal_form='усачёв', score=0.25, methods_stack=((DictionaryAnalyzer(), 'усачёвой', 37, 7),)),\n",
       " Parse(word=',', tag=OpencorporaTag('PNCT'), normal_form=',', score=1.0, methods_stack=((PunctuationAnalyzer(score=0.9), ','),)),\n",
       " Parse(word='одной', tag=OpencorporaTag('ADJF,Apro,Anum femn,sing,gent'), normal_form='один', score=0.474895, methods_stack=((DictionaryAnalyzer(), 'одной', 2292, 8),)),\n",
       " Parse(word='из', tag=OpencorporaTag('PREP'), normal_form='из', score=0.999673, methods_stack=((DictionaryAnalyzer(), 'из', 393, 0),)),\n",
       " Parse(word='его', tag=OpencorporaTag('NPRO,masc,3per,Anph sing,accs'), normal_form='он', score=0.23913, methods_stack=((DictionaryAnalyzer(), 'его', 2303, 5),)),\n",
       " Parse(word='фанаток', tag=OpencorporaTag('NOUN,anim,femn plur,gent'), normal_form='фанатка', score=0.5, methods_stack=((DictionaryAnalyzer(), 'фанаток', 40, 8),)),\n",
       " Parse(word='.', tag=OpencorporaTag('PNCT'), normal_form='.', score=1.0, methods_stack=((PunctuationAnalyzer(score=0.9), '.'),)),\n",
       " Parse(word='говорят', tag=OpencorporaTag('VERB,impf,tran plur,3per,pres,indc'), normal_form='говорить', score=0.842794, methods_stack=((DictionaryAnalyzer(), 'говорят', 415, 6),)),\n",
       " Parse(word=',', tag=OpencorporaTag('PNCT'), normal_form=',', score=1.0, methods_stack=((PunctuationAnalyzer(score=0.9), ','),)),\n",
       " Parse(word='что', tag=OpencorporaTag('CONJ'), normal_form='что', score=0.922033, methods_stack=((DictionaryAnalyzer(), 'что', 3185, 0),)),\n",
       " Parse(word='билан', tag=OpencorporaTag('NOUN,anim,masc,Name sing,nomn'), normal_form='билан', score=1.0, methods_stack=((DictionaryAnalyzer(), 'билан', 27, 0),)),\n",
       " Parse(word='даже', tag=OpencorporaTag('PRCL'), normal_form='даже', score=1.0, methods_stack=((DictionaryAnalyzer(), 'даже', 22, 0),)),\n",
       " Parse(word='собирается', tag=OpencorporaTag('VERB,impf,intr sing,3per,pres,indc'), normal_form='собираться', score=1.0, methods_stack=((DictionaryAnalyzer(), 'собирается', 234, 5),)),\n",
       " Parse(word='сделать', tag=OpencorporaTag('INFN,perf,tran'), normal_form='сделать', score=1.0, methods_stack=((DictionaryAnalyzer(), 'сделать', 648, 0),)),\n",
       " Parse(word='ей', tag=OpencorporaTag('NPRO,femn,3per,Anph sing,datv'), normal_form='она', score=0.97093, methods_stack=((DictionaryAnalyzer(), 'ей', 2304, 4),)),\n",
       " Parse(word='предложение', tag=OpencorporaTag('NOUN,inan,neut sing,accs'), normal_form='предложение', score=0.531914, methods_stack=((DictionaryAnalyzer(), 'предложение', 77, 6),)),\n",
       " Parse(word=',', tag=OpencorporaTag('PNCT'), normal_form=',', score=1.0, methods_stack=((PunctuationAnalyzer(score=0.9), ','),)),\n",
       " Parse(word='однако', tag=OpencorporaTag('CONJ,Prnt'), normal_form='однако', score=0.991329, methods_stack=((DictionaryAnalyzer(), 'однако', 2294, 0),)),\n",
       " Parse(word='против', tag=OpencorporaTag('PREP'), normal_form='против', score=0.980633, methods_stack=((DictionaryAnalyzer(), 'против', 24, 0),)),\n",
       " Parse(word='свадьбы', tag=OpencorporaTag('NOUN,inan,femn sing,gent'), normal_form='свадьба', score=0.894736, methods_stack=((DictionaryAnalyzer(), 'свадьбы', 2837, 1),)),\n",
       " Parse(word='выступает', tag=OpencorporaTag('VERB,impf,intr sing,3per,pres,indc'), normal_form='выступать', score=1.0, methods_stack=((DictionaryAnalyzer(), 'выступает', 1141, 5),)),\n",
       " Parse(word='яна', tag=OpencorporaTag('NOUN,anim,masc,Name sing,gent'), normal_form='ян', score=0.5, methods_stack=((DictionaryAnalyzer(), 'яна', 27, 1),)),\n",
       " Parse(word='рудковская', tag=OpencorporaTag('ADJF femn,sing,nomn'), normal_form='рудковский', score=0.7994186046511627, methods_stack=((FakeDictionary(), 'рудковская', 16, 7), (KnownSuffixAnalyzer(min_word_length=4, score_multiplier=0.5), 'вская'))),\n",
       " Parse(word='.', tag=OpencorporaTag('PNCT'), normal_form='.', score=1.0, methods_stack=((PunctuationAnalyzer(score=0.9), '.'),)),\n",
       " Parse(word='светская', tag=OpencorporaTag('ADJF femn,sing,nomn'), normal_form='светский', score=1.0, methods_stack=((DictionaryAnalyzer(), 'светская', 16, 7),)),\n",
       " Parse(word='львица', tag=OpencorporaTag('NOUN,anim,femn sing,nomn'), normal_form='львица', score=1.0, methods_stack=((DictionaryAnalyzer(), 'львица', 145, 0),)),\n",
       " Parse(word='считает', tag=OpencorporaTag('VERB,impf,tran sing,3per,pres,indc'), normal_form='считать', score=0.956521, methods_stack=((DictionaryAnalyzer(), 'считает', 2983, 5),)),\n",
       " Parse(word=',', tag=OpencorporaTag('PNCT'), normal_form=',', score=1.0, methods_stack=((PunctuationAnalyzer(score=0.9), ','),)),\n",
       " Parse(word='что', tag=OpencorporaTag('CONJ'), normal_form='что', score=0.922033, methods_stack=((DictionaryAnalyzer(), 'что', 3185, 0),)),\n",
       " Parse(word='женитьба', tag=OpencorporaTag('NOUN,inan,femn sing,nomn'), normal_form='женитьба', score=1.0, methods_stack=((DictionaryAnalyzer(), 'женитьба', 55, 0),)),\n",
       " Parse(word='может', tag=OpencorporaTag('VERB,impf,intr sing,3per,pres,indc'), normal_form='мочь', score=0.945446, methods_stack=((DictionaryAnalyzer(), 'может', 2060, 5),)),\n",
       " Parse(word='негативно', tag=OpencorporaTag('ADVB'), normal_form='негативно', score=0.833333, methods_stack=((DictionaryAnalyzer(), 'негативно', 3, 0),)),\n",
       " Parse(word='сказать', tag=OpencorporaTag('INFN,perf,tran'), normal_form='сказать', score=1.0, methods_stack=((DictionaryAnalyzer(), 'сказать', 672, 0),)),\n",
       " Parse(word='на', tag=OpencorporaTag('PREP'), normal_form='на', score=0.998961, methods_stack=((DictionaryAnalyzer(), 'на', 24, 0),)),\n",
       " Parse(word='творческих', tag=OpencorporaTag('ADJF plur,gent'), normal_form='творческий', score=0.896551, methods_stack=((DictionaryAnalyzer(), 'творческих', 16, 21),)),\n",
       " Parse(word='успехах', tag=OpencorporaTag('NOUN,inan,masc plur,loct'), normal_form='успех', score=1.0, methods_stack=((DictionaryAnalyzer(), 'успехах', 19, 11),)),\n",
       " Parse(word='билана', tag=OpencorporaTag('NOUN,anim,masc,Name sing,gent'), normal_form='билан', score=0.75, methods_stack=((DictionaryAnalyzer(), 'билана', 27, 1),)),\n",
       " Parse(word='.', tag=OpencorporaTag('PNCT'), normal_form='.', score=1.0, methods_stack=((PunctuationAnalyzer(score=0.9), '.'),)),\n",
       " Parse(word='кроме', tag=OpencorporaTag('PREP'), normal_form='кроме', score=1.0, methods_stack=((DictionaryAnalyzer(), 'кроме', 24, 0),)),\n",
       " Parse(word='того', tag=OpencorporaTag('ADJF,Subx,Apro,Anph neut,sing,gent'), normal_form='тот', score=0.985087, methods_stack=((DictionaryAnalyzer(), 'того', 3027, 14),)),\n",
       " Parse(word=',', tag=OpencorporaTag('PNCT'), normal_form=',', score=1.0, methods_stack=((PunctuationAnalyzer(score=0.9), ','),)),\n",
       " Parse(word='она', tag=OpencorporaTag('NPRO,femn,3per,Anph sing,nomn'), normal_form='она', score=1.0, methods_stack=((DictionaryAnalyzer(), 'она', 2304, 0),)),\n",
       " Parse(word='подозревает', tag=OpencorporaTag('VERB,impf,tran sing,3per,pres,indc'), normal_form='подозревать', score=1.0, methods_stack=((DictionaryAnalyzer(), 'подозревает', 2230, 5),)),\n",
       " Parse(word=',', tag=OpencorporaTag('PNCT'), normal_form=',', score=1.0, methods_stack=((PunctuationAnalyzer(score=0.9), ','),)),\n",
       " Parse(word='что', tag=OpencorporaTag('CONJ'), normal_form='что', score=0.922033, methods_stack=((DictionaryAnalyzer(), 'что', 3185, 0),)),\n",
       " Parse(word='певца', tag=OpencorporaTag('NOUN,anim,masc sing,gent'), normal_form='певец', score=0.5, methods_stack=((DictionaryAnalyzer(), 'певца', 538, 1),)),\n",
       " Parse(word='могут', tag=OpencorporaTag('VERB,impf,intr plur,3per,pres,indc'), normal_form='мочь', score=1.0, methods_stack=((DictionaryAnalyzer(), 'могут', 2060, 6),)),\n",
       " Parse(word='использовать', tag=OpencorporaTag('INFN,perf,tran'), normal_form='использовать', score=0.5, methods_stack=((DictionaryAnalyzer(), 'использовать', 76, 0),)),\n",
       " Parse(word='.', tag=OpencorporaTag('PNCT'), normal_form='.', score=1.0, methods_stack=((PunctuationAnalyzer(score=0.9), '.'),)),\n",
       " Parse(word='не', tag=OpencorporaTag('PRCL'), normal_form='не', score=1.0, methods_stack=((DictionaryAnalyzer(), 'не', 22, 0),)),\n",
       " Parse(word='секрет', tag=OpencorporaTag('NOUN,inan,masc sing,nomn'), normal_form='секрет', score=0.714285, methods_stack=((DictionaryAnalyzer(), 'секрет', 34, 0),)),\n",
       " Parse(word=',', tag=OpencorporaTag('PNCT'), normal_form=',', score=1.0, methods_stack=((PunctuationAnalyzer(score=0.9), ','),)),\n",
       " Parse(word='что', tag=OpencorporaTag('CONJ'), normal_form='что', score=0.922033, methods_stack=((DictionaryAnalyzer(), 'что', 3185, 0),)),\n",
       " Parse(word='дима', tag=OpencorporaTag('NOUN,anim,masc,Name sing,nomn'), normal_form='дима', score=0.857142, methods_stack=((DictionaryAnalyzer(), 'дима', 631, 0),)),\n",
       " Parse(word='богатый', tag=OpencorporaTag('ADJF,Qual masc,sing,nomn'), normal_form='богатый', score=0.5, methods_stack=((DictionaryAnalyzer(), 'богатый', 510, 0),)),\n",
       " Parse(word='человек', tag=OpencorporaTag('NOUN,anim,masc sing,nomn'), normal_form='человек', score=0.569458, methods_stack=((DictionaryAnalyzer(), 'человек', 3166, 0),)),\n",
       " Parse(word='его', tag=OpencorporaTag('NPRO,masc,3per,Anph sing,accs'), normal_form='он', score=0.23913, methods_stack=((DictionaryAnalyzer(), 'его', 2303, 5),)),\n",
       " Parse(word='деньги', tag=OpencorporaTag('NOUN,inan,femn plur,accs'), normal_form='деньга', score=0.632398, methods_stack=((DictionaryAnalyzer(), 'деньги', 1328, 10),)),\n",
       " Parse(word='могут', tag=OpencorporaTag('VERB,impf,intr plur,3per,pres,indc'), normal_form='мочь', score=1.0, methods_stack=((DictionaryAnalyzer(), 'могут', 2060, 6),)),\n",
       " Parse(word='привлечь', tag=OpencorporaTag('INFN,perf,tran'), normal_form='привлечь', score=1.0, methods_stack=((DictionaryAnalyzer(), 'привлечь', 871, 0),)),\n",
       " Parse(word='внимание', tag=OpencorporaTag('NOUN,inan,neut sing,accs'), normal_form='внимание', score=0.883211, methods_stack=((DictionaryAnalyzer(), 'внимание', 77, 6),)),\n",
       " Parse(word='мошенников', tag=OpencorporaTag('NOUN,anim,masc plur,gent'), normal_form='мошенник', score=0.875, methods_stack=((DictionaryAnalyzer(), 'мошенников', 2, 7),)),\n",
       " Parse(word='«', tag=OpencorporaTag('PNCT'), normal_form='«', score=1.0, methods_stack=((PunctuationAnalyzer(score=0.9), '«'),)),\n",
       " Parse(word='вообще', tag=OpencorporaTag('ADVB'), normal_form='вообще', score=0.809523, methods_stack=((DictionaryAnalyzer(), 'вообще', 3, 0),)),\n",
       " Parse(word='диме', tag=OpencorporaTag('NOUN,anim,masc,Name sing,datv'), normal_form='дима', score=0.4, methods_stack=((DictionaryAnalyzer(), 'диме', 631, 2),)),\n",
       " Parse(word='ни', tag=OpencorporaTag('PRCL'), normal_form='ни', score=0.722222, methods_stack=((DictionaryAnalyzer(), 'ни', 22, 0),)),\n",
       " Parse(word='чему', tag=OpencorporaTag('NPRO,neut sing,datv'), normal_form='что', score=1.0, methods_stack=((DictionaryAnalyzer(), 'чему', 3186, 2),)),\n",
       " Parse(word='жениться', tag=OpencorporaTag('INFN,perf,intr'), normal_form='жениться', score=0.5, methods_stack=((DictionaryAnalyzer(), 'жениться', 1473, 0),)),\n",
       " Parse(word='.', tag=OpencorporaTag('PNCT'), normal_form='.', score=1.0, methods_stack=((PunctuationAnalyzer(score=0.9), '.'),)),\n",
       " Parse(word='потому', tag=OpencorporaTag('ADVB,Dmns'), normal_form='потому', score=1.0, methods_stack=((DictionaryAnalyzer(), 'потому', 1625, 0),)),\n",
       " Parse(word='что', tag=OpencorporaTag('CONJ'), normal_form='что', score=0.922033, methods_stack=((DictionaryAnalyzer(), 'что', 3185, 0),)),\n",
       " Parse(word='его', tag=OpencorporaTag('NPRO,masc,3per,Anph sing,accs'), normal_form='он', score=0.23913, methods_stack=((DictionaryAnalyzer(), 'его', 2303, 5),)),\n",
       " Parse(word='разведут', tag=OpencorporaTag('VERB,perf,tran plur,3per,futr,indc'), normal_form='развести', score=1.0, methods_stack=((DictionaryAnalyzer(), 'разведут', 662, 10),)),\n",
       " Parse(word='на', tag=OpencorporaTag('PREP'), normal_form='на', score=0.998961, methods_stack=((DictionaryAnalyzer(), 'на', 24, 0),)),\n",
       " Parse(word='бабло', tag=OpencorporaTag('NOUN,inan,neut,Sgtm sing,nomn'), normal_form='бабло', score=0.5, methods_stack=((DictionaryAnalyzer(), 'бабло', 110, 0),)),\n",
       " Parse(word=',', tag=OpencorporaTag('PNCT'), normal_form=',', score=1.0, methods_stack=((PunctuationAnalyzer(score=0.9), ','),)),\n",
       " Parse(word='бабла', tag=OpencorporaTag('NOUN,inan,neut,Sgtm sing,gent'), normal_form='бабло', score=1.0, methods_stack=((DictionaryAnalyzer(), 'бабла', 110, 1),)),\n",
       " Parse(word='дима', tag=OpencorporaTag('NOUN,anim,masc,Name sing,nomn'), normal_form='дима', score=0.857142, methods_stack=((DictionaryAnalyzer(), 'дима', 631, 0),)),\n",
       " Parse(word='много', tag=OpencorporaTag('ADVB,Prdx'), normal_form='много', score=0.984732, methods_stack=((DictionaryAnalyzer(), 'много', 404, 0),)),\n",
       " Parse(word='зарабатывает', tag=OpencorporaTag('VERB,impf,tran sing,3per,pres,indc'), normal_form='зарабатывать', score=1.0, methods_stack=((DictionaryAnalyzer(), 'зарабатывает', 215, 5),)),\n",
       " Parse(word='.', tag=OpencorporaTag('PNCT'), normal_form='.', score=1.0, methods_stack=((PunctuationAnalyzer(score=0.9), '.'),)),\n",
       " Parse(word='пусть', tag=OpencorporaTag('PRCL'), normal_form='пусть', score=0.75, methods_stack=((DictionaryAnalyzer(), 'пусть', 22, 0),)),\n",
       " Parse(word='пока', tag=OpencorporaTag('ADVB'), normal_form='пока', score=0.587064, methods_stack=((DictionaryAnalyzer(), 'пока', 3, 0),)),\n",
       " Parse(word='просто', tag=OpencorporaTag('PRCL'), normal_form='просто', score=0.666666, methods_stack=((DictionaryAnalyzer(), 'просто', 22, 0),)),\n",
       " Parse(word='так', tag=OpencorporaTag('CONJ'), normal_form='так', score=0.5, methods_stack=((DictionaryAnalyzer(), 'так', 2996, 0),)),\n",
       " Parse(word='гуляет', tag=OpencorporaTag('VERB,impf,intr sing,3per,pres,indc'), normal_form='гулять', score=1.0, methods_stack=((DictionaryAnalyzer(), 'гуляет', 15, 5),)),\n",
       " Parse(word='!', tag=OpencorporaTag('PNCT'), normal_form='!', score=1.0, methods_stack=((PunctuationAnalyzer(score=0.9), '!'),)),\n",
       " Parse(word='»', tag=OpencorporaTag('PNCT'), normal_form='»', score=1.0, methods_stack=((PunctuationAnalyzer(score=0.9), '»'),)),\n",
       " Parse(word='—', tag=OpencorporaTag('PNCT'), normal_form='—', score=1.0, methods_stack=((PunctuationAnalyzer(score=0.9), '—'),)),\n",
       " Parse(word='цитирует', tag=OpencorporaTag('VERB,impf,tran sing,3per,pres,indc'), normal_form='цитировать', score=1.0, methods_stack=((DictionaryAnalyzer(), 'цитирует', 171, 5),)),\n",
       " Parse(word='рудковскую', tag=OpencorporaTag('ADJF femn,sing,accs'), normal_form='рудковский', score=0.7994186046511627, methods_stack=((FakeDictionary(), 'рудковскую', 16, 10), (KnownSuffixAnalyzer(min_word_length=4, score_multiplier=0.5), 'вскую'))),\n",
       " Parse(word='эг', tag=OpencorporaTag('UNKN'), normal_form='эг', score=1.0, methods_stack=((UnknAnalyzer(), 'эг'),)),\n",
       " Parse(word='.', tag=OpencorporaTag('PNCT'), normal_form='.', score=1.0, methods_stack=((PunctuationAnalyzer(score=0.9), '.'),)),\n",
       " Parse(word='кстати', tag=OpencorporaTag('CONJ,Prnt'), normal_form='кстати', score=0.846153, methods_stack=((DictionaryAnalyzer(), 'кстати', 130, 0),)),\n",
       " Parse(word=',', tag=OpencorporaTag('PNCT'), normal_form=',', score=1.0, methods_stack=((PunctuationAnalyzer(score=0.9), ','),)),\n",
       " Parse(word='звёздная', tag=OpencorporaTag('ADJF,Qual femn,sing,nomn'), normal_form='звёздный', score=1.0, methods_stack=((DictionaryAnalyzer(), 'звёздная', 12, 7),)),\n",
       " Parse(word='блондинка', tag=OpencorporaTag('NOUN,anim,femn sing,nomn'), normal_form='блондинка', score=1.0, methods_stack=((DictionaryAnalyzer(), 'блондинка', 40, 0),)),\n",
       " Parse(word='не', tag=OpencorporaTag('PRCL'), normal_form='не', score=1.0, methods_stack=((DictionaryAnalyzer(), 'не', 22, 0),)),\n",
       " Parse(word='стала', tag=OpencorporaTag('VERB,perf,intr femn,sing,past,indc'), normal_form='стать', score=1.0, methods_stack=((DictionaryAnalyzer(), 'стала', 945, 2),)),\n",
       " Parse(word='отрицать', tag=OpencorporaTag('INFN,impf,tran'), normal_form='отрицать', score=1.0, methods_stack=((DictionaryAnalyzer(), 'отрицать', 215, 0),)),\n",
       " Parse(word=',', tag=OpencorporaTag('PNCT'), normal_form=',', score=1.0, methods_stack=((PunctuationAnalyzer(score=0.9), ','),)),\n",
       " Parse(word='что', tag=OpencorporaTag('CONJ'), normal_form='что', score=0.922033, methods_stack=((DictionaryAnalyzer(), 'что', 3185, 0),)),\n",
       " Parse(word='билан', tag=OpencorporaTag('NOUN,anim,masc,Name sing,nomn'), normal_form='билан', score=1.0, methods_stack=((DictionaryAnalyzer(), 'билан', 27, 0),)),\n",
       " Parse(word='много', tag=OpencorporaTag('ADVB,Prdx'), normal_form='много', score=0.984732, methods_stack=((DictionaryAnalyzer(), 'много', 404, 0),)),\n",
       " Parse(word='времени', tag=OpencorporaTag('NOUN,inan,neut sing,gent'), normal_form='время', score=0.764163, methods_stack=((DictionaryAnalyzer(), 'времени', 563, 1),)),\n",
       " Parse(word='проводит', tag=OpencorporaTag('VERB,impf,tran sing,3per,pres,indc'), normal_form='проводить', score=0.833333, methods_stack=((DictionaryAnalyzer(), 'проводит', 2685, 5),)),\n",
       " Parse(word='компании', tag=OpencorporaTag('NOUN,inan,femn sing,gent'), normal_form='компания', score=0.588082, methods_stack=((DictionaryAnalyzer(), 'компании', 41, 1),)),\n",
       " Parse(word='усачёвой', tag=OpencorporaTag('NOUN,anim,femn,Sgtm,Surn sing,gent'), normal_form='усачёв', score=0.25, methods_stack=((DictionaryAnalyzer(), 'усачёвой', 37, 7),)),\n",
       " Parse(word=',', tag=OpencorporaTag('PNCT'), normal_form=',', score=1.0, methods_stack=((PunctuationAnalyzer(score=0.9), ','),)),\n",
       " Parse(word='но', tag=OpencorporaTag('CONJ'), normal_form='но', score=0.999185, methods_stack=((DictionaryAnalyzer(), 'но', 20, 0),)),\n",
       " Parse(word='статус', tag=OpencorporaTag('NOUN,inan,masc sing,accs'), normal_form='статус', score=0.666666, methods_stack=((DictionaryAnalyzer(), 'статус', 34, 3),)),\n",
       " Parse(word='их', tag=OpencorporaTag('NPRO,3per,Anph plur,accs'), normal_form='они', score=0.138888, methods_stack=((DictionaryAnalyzer(), 'их', 2305, 5),)),\n",
       " Parse(word='отношений', tag=OpencorporaTag('NOUN,inan,neut plur,gent'), normal_form='отношение', score=1.0, methods_stack=((DictionaryAnalyzer(), 'отношений', 77, 15),)),\n",
       " Parse(word='решила', tag=OpencorporaTag('VERB,perf,tran femn,sing,past,indc'), normal_form='решить', score=1.0, methods_stack=((DictionaryAnalyzer(), 'решила', 775, 2),)),\n",
       " Parse(word='не', tag=OpencorporaTag('PRCL'), normal_form='не', score=1.0, methods_stack=((DictionaryAnalyzer(), 'не', 22, 0),)),\n",
       " Parse(word='раскрывать', tag=OpencorporaTag('INFN,impf,tran'), normal_form='раскрывать', score=1.0, methods_stack=((DictionaryAnalyzer(), 'раскрывать', 215, 0),)),\n",
       " Parse(word='.', tag=OpencorporaTag('PNCT'), normal_form='.', score=1.0, methods_stack=((PunctuationAnalyzer(score=0.9), '.'),)),\n",
       " Parse(word='«', tag=OpencorporaTag('PNCT'), normal_form='«', score=1.0, methods_stack=((PunctuationAnalyzer(score=0.9), '«'),)),\n",
       " Parse(word='она', tag=OpencorporaTag('NPRO,femn,3per,Anph sing,nomn'), normal_form='она', score=1.0, methods_stack=((DictionaryAnalyzer(), 'она', 2304, 0),)),\n",
       " Parse(word='хорошая', tag=OpencorporaTag('ADJF,Qual femn,sing,nomn'), normal_form='хороший', score=1.0, methods_stack=((DictionaryAnalyzer(), 'хорошая', 3135, 7),)),\n",
       " Parse(word='девочка', tag=OpencorporaTag('NOUN,anim,femn sing,nomn'), normal_form='девочка', score=1.0, methods_stack=((DictionaryAnalyzer(), 'девочка', 134, 0),)),\n",
       " Parse(word=',', tag=OpencorporaTag('PNCT'), normal_form=',', score=1.0, methods_stack=((PunctuationAnalyzer(score=0.9), ','),)),\n",
       " Parse(word='преданная', tag=OpencorporaTag('PRTF,perf,tran,past,pssv femn,sing,nomn'), normal_form='предать', score=0.5, methods_stack=((DictionaryAnalyzer(), 'преданная', 884, 49),)),\n",
       " Parse(word='.', tag=OpencorporaTag('PNCT'), normal_form='.', score=1.0, methods_stack=((PunctuationAnalyzer(score=0.9), '.'),)),\n",
       " Parse(word='что', tag=OpencorporaTag('CONJ'), normal_form='что', score=0.922033, methods_stack=((DictionaryAnalyzer(), 'что', 3185, 0),)),\n",
       " Parse(word='он', tag=OpencorporaTag('NPRO,masc,3per,Anph sing,nomn'), normal_form='он', score=1.0, methods_stack=((DictionaryAnalyzer(), 'он', 2303, 0),)),\n",
       " Parse(word='там', tag=OpencorporaTag('ADVB,Dmns'), normal_form='там', score=0.666666, methods_stack=((DictionaryAnalyzer(), 'там', 1625, 0),)),\n",
       " Parse(word='ней', tag=OpencorporaTag('NPRO,femn,3per,Anph sing,loct,Af-p'), normal_form='она', score=0.493827, methods_stack=((DictionaryAnalyzer(), 'ней', 2304, 12),)),\n",
       " Parse(word='делает', tag=OpencorporaTag('VERB,impf,tran sing,3per,pres,indc'), normal_form='делать', score=1.0, methods_stack=((DictionaryAnalyzer(), 'делает', 321, 5),)),\n",
       " Parse(word='меня', tag=OpencorporaTag('NPRO,1per sing,accs'), normal_form='я', score=0.536184, methods_stack=((DictionaryAnalyzer(), 'меня', 3246, 3),)),\n",
       " Parse(word='это', tag=OpencorporaTag('PRCL'), normal_form='это', score=0.36, methods_stack=((DictionaryAnalyzer(), 'это', 22, 0),)),\n",
       " Parse(word='абсолютно', tag=OpencorporaTag('ADVB'), normal_form='абсолютно', score=0.977777, methods_stack=((DictionaryAnalyzer(), 'абсолютно', 3, 0),)),\n",
       " Parse(word='не', tag=OpencorporaTag('PRCL'), normal_form='не', score=1.0, methods_stack=((DictionaryAnalyzer(), 'не', 22, 0),)),\n",
       " Parse(word='интересует', tag=OpencorporaTag('VERB,impf,tran sing,3per,pres,indc'), normal_form='интересовать', score=0.5, methods_stack=((DictionaryAnalyzer(), 'интересует', 171, 5),)),\n",
       " Parse(word='»', tag=OpencorporaTag('PNCT'), normal_form='»', score=1.0, methods_stack=((PunctuationAnalyzer(score=0.9), '»'),)),\n",
       " Parse(word=',', tag=OpencorporaTag('PNCT'), normal_form=',', score=1.0, methods_stack=((PunctuationAnalyzer(score=0.9), ','),)),\n",
       " Parse(word='говорит', tag=OpencorporaTag('VERB,impf,tran sing,3per,pres,indc'), normal_form='говорить', score=1.0, methods_stack=((DictionaryAnalyzer(), 'говорит', 415, 5),)),\n",
       " Parse(word='рудковская', tag=OpencorporaTag('ADJF femn,sing,nomn'), normal_form='рудковский', score=0.7994186046511627, methods_stack=((FakeDictionary(), 'рудковская', 16, 7), (KnownSuffixAnalyzer(min_word_length=4, score_multiplier=0.5), 'вская'))),\n",
       " Parse(word='работа', tag=OpencorporaTag('NOUN,inan,femn sing,nomn'), normal_form='работа', score=1.0, methods_stack=((DictionaryAnalyzer(), 'работа', 55, 0),)),\n",
       " Parse(word='хостёс', tag=OpencorporaTag('NOUN,inan,masc sing,nomn'), normal_form='хостёс', score=0.3387096774193548, methods_stack=((DictionaryAnalyzer(), 'тёс', 161, 0), (UnknownPrefixAnalyzer(score_multiplier=0.5), 'хос'))),\n",
       " Parse(word='планы', tag=OpencorporaTag('NOUN,inan,masc plur,nomn'), normal_form='план', score=0.528571, methods_stack=((DictionaryAnalyzer(), 'планы', 34, 6),)),\n",
       " Parse(word='на', tag=OpencorporaTag('PREP'), normal_form='на', score=0.998961, methods_stack=((DictionaryAnalyzer(), 'на', 24, 0),)),\n",
       " Parse(word='«', tag=OpencorporaTag('PNCT'), normal_form='«', score=1.0, methods_stack=((PunctuationAnalyzer(score=0.9), '«'),)),\n",
       " Parse(word='евровидение', tag=OpencorporaTag('NOUN,inan,neut,Orgn sing,nomn'), normal_form='евровидение', score=0.8, methods_stack=((DictionaryAnalyzer(), 'евровидение', 3253, 0),)),\n",
       " Parse(word='»', tag=OpencorporaTag('PNCT'), normal_form='»', score=1.0, methods_stack=((PunctuationAnalyzer(score=0.9), '»'),)),\n",
       " Parse(word=':', tag=OpencorporaTag('PNCT'), normal_form=':', score=1.0, methods_stack=((PunctuationAnalyzer(score=0.9), ':'),)),\n",
       " Parse(word='сестра', tag=OpencorporaTag('NOUN,anim,femn sing,nomn'), normal_form='сестра', score=1.0, methods_stack=((DictionaryAnalyzer(), 'сестра', 2872, 0),)),\n",
       " Parse(word='димы', tag=OpencorporaTag('NOUN,anim,masc,Name sing,gent'), normal_form='дима', score=0.4, methods_stack=((DictionaryAnalyzer(), 'димы', 631, 1),)),\n",
       " Parse(word='билана', tag=OpencorporaTag('NOUN,anim,masc,Name sing,gent'), normal_form='билан', score=0.75, methods_stack=((DictionaryAnalyzer(), 'билана', 27, 1),)),\n",
       " Parse(word='раскрыла', tag=OpencorporaTag('VERB,perf,tran femn,sing,past,indc'), normal_form='раскрыть', score=1.0, methods_stack=((DictionaryAnalyzer(), 'раскрыла', 811, 2),)),\n",
       " Parse(word='всё', tag=OpencorporaTag('PRCL'), normal_form='всё', score=0.979166, methods_stack=((DictionaryAnalyzer(), 'всё', 22, 0),)),\n",
       " Parse(word='секреты', tag=OpencorporaTag('NOUN,inan,masc plur,nomn'), normal_form='секрет', score=0.5, methods_stack=((DictionaryAnalyzer(), 'секреты', 34, 6),)),\n",
       " Parse(word='читать', tag=OpencorporaTag('INFN,impf,tran'), normal_form='читать', score=1.0, methods_stack=((DictionaryAnalyzer(), 'читать', 321, 0),)),\n",
       " Parse(word='материал', tag=OpencorporaTag('NOUN,inan,masc sing,nomn'), normal_form='материал', score=0.6, methods_stack=((DictionaryAnalyzer(), 'материал', 161, 0),)),\n",
       " Parse(word='кстати', tag=OpencorporaTag('CONJ,Prnt'), normal_form='кстати', score=0.846153, methods_stack=((DictionaryAnalyzer(), 'кстати', 130, 0),)),\n",
       " Parse(word=',', tag=OpencorporaTag('PNCT'), normal_form=',', score=1.0, methods_stack=((PunctuationAnalyzer(score=0.9), ','),)),\n",
       " Parse(word='этой', tag=OpencorporaTag('ADJF,Subx,Apro,Anph femn,sing,gent'), normal_form='этот', score=0.459783, methods_stack=((DictionaryAnalyzer(), 'этой', 3241, 8),)),\n",
       " Parse(word='осенью', tag=OpencorporaTag('NOUN,inan,femn sing,ablt'), normal_form='осень', score=0.677419, methods_stack=((DictionaryAnalyzer(), 'осенью', 13, 4),)),\n",
       " Parse(word='стало', tag=OpencorporaTag('VERB,perf,intr neut,sing,past,indc'), normal_form='стать', score=1.0, methods_stack=((DictionaryAnalyzer(), 'стало', 945, 3),)),\n",
       " Parse(word='известно', tag=OpencorporaTag('PRED,pres'), normal_form='известно', score=0.5, methods_stack=((DictionaryAnalyzer(), 'известно', 254, 0),)),\n",
       " Parse(word=',', tag=OpencorporaTag('PNCT'), normal_form=',', score=1.0, methods_stack=((PunctuationAnalyzer(score=0.9), ','),)),\n",
       " Parse(word='что', tag=OpencorporaTag('CONJ'), normal_form='что', score=0.922033, methods_stack=((DictionaryAnalyzer(), 'что', 3185, 0),)),\n",
       " Parse(word='билан', tag=OpencorporaTag('NOUN,anim,masc,Name sing,nomn'), normal_form='билан', score=1.0, methods_stack=((DictionaryAnalyzer(), 'билан', 27, 0),)),\n",
       " Parse(word='вошёл', tag=OpencorporaTag('VERB,perf,intr masc,sing,past,indc'), normal_form='войти', score=1.0, methods_stack=((DictionaryAnalyzer(), 'вошёл', 805, 1),)),\n",
       " Parse(word='число', tag=OpencorporaTag('NOUN,inan,neut sing,nomn'), normal_form='число', score=0.61165, methods_stack=((DictionaryAnalyzer(), 'число', 116, 0),)),\n",
       " Parse(word='артистов', tag=OpencorporaTag('NOUN,anim,masc plur,gent'), normal_form='артист', score=0.785714, methods_stack=((DictionaryAnalyzer(), 'артистов', 52, 7),)),\n",
       " Parse(word='продюсерского', tag=OpencorporaTag('ADJF masc,sing,gent'), normal_form='продюсерский', score=0.3333333333333333, methods_stack=((DictionaryAnalyzer(), 'продюсерского', 16, 1),)),\n",
       " Parse(word='центра', tag=OpencorporaTag('NOUN,inan,masc sing,gent'), normal_form='центр', score=1.0, methods_stack=((DictionaryAnalyzer(), 'центра', 34, 1),)),\n",
       " Parse(word='арама', tag=OpencorporaTag('NOUN,anim,masc,Name sing,gent'), normal_form='арам', score=0.75, methods_stack=((DictionaryAnalyzer(), 'арама', 27, 1),)),\n",
       " Parse(word='арчера', tag=OpencorporaTag('NOUN,inan,masc sing,gent'), normal_form='арчер', score=0.3392857142857143, methods_stack=((DictionaryAnalyzer(), 'ера', 34, 1), (UnknownPrefixAnalyzer(score_multiplier=0.5), 'арч'))),\n",
       " Parse(word='.', tag=OpencorporaTag('PNCT'), normal_form='.', score=1.0, methods_stack=((PunctuationAnalyzer(score=0.9), '.'),)),\n",
       " Parse(word='при', tag=OpencorporaTag('PREP'), normal_form='при', score=0.99933, methods_stack=((DictionaryAnalyzer(), 'при', 24, 0),)),\n",
       " Parse(word='это', tag=OpencorporaTag('PRCL'), normal_form='это', score=0.36, methods_stack=((DictionaryAnalyzer(), 'это', 22, 0),)),\n",
       " Parse(word='певец', tag=OpencorporaTag('NOUN,anim,masc sing,nomn'), normal_form='певец', score=1.0, methods_stack=((DictionaryAnalyzer(), 'певец', 538, 0),)),\n",
       " Parse(word='не', tag=OpencorporaTag('PRCL'), normal_form='не', score=1.0, methods_stack=((DictionaryAnalyzer(), 'не', 22, 0),)),\n",
       " Parse(word='прекратил', tag=OpencorporaTag('VERB,perf,tran masc,sing,past,indc'), normal_form='прекратить', score=1.0, methods_stack=((DictionaryAnalyzer(), 'прекратил', 878, 1),)),\n",
       " Parse(word='сотрудничество', tag=OpencorporaTag('NOUN,inan,neut sing,accs'), normal_form='сотрудничество', score=0.64, methods_stack=((DictionaryAnalyzer(), 'сотрудничество', 54, 3),)),\n",
       " Parse(word='рудковской', tag=OpencorporaTag('ADJF femn,sing,loct'), normal_form='рудковский', score=0.19985465116279066, methods_stack=((FakeDictionary(), 'рудковской', 16, 13), (KnownSuffixAnalyzer(min_word_length=4, score_multiplier=0.5), 'вской'))),\n",
       " Parse(word=',', tag=OpencorporaTag('PNCT'), normal_form=',', score=1.0, methods_stack=((PunctuationAnalyzer(score=0.9), ','),)),\n",
       " Parse(word='которая', tag=OpencorporaTag('ADJF,Subx,Apro,Anph femn,sing,nomn'), normal_form='который', score=1.0, methods_stack=((DictionaryAnalyzer(), 'которая', 1866, 7),)),\n",
       " Parse(word='по-прежнему', tag=OpencorporaTag('ADVB'), normal_form='по-прежнему', score=1.0, methods_stack=((DictionaryAnalyzer(), 'по-прежнему', 3, 0),)),\n",
       " Parse(word='занимается', tag=OpencorporaTag('VERB,impf,intr sing,3per,pres,indc'), normal_form='заниматься', score=1.0, methods_stack=((DictionaryAnalyzer(), 'занимается', 234, 5),)),\n",
       " Parse(word='организацией', tag=OpencorporaTag('NOUN,inan,femn sing,ablt'), normal_form='организация', score=1.0, methods_stack=((DictionaryAnalyzer(), 'организацией', 41, 4),)),\n",
       " Parse(word='его', tag=OpencorporaTag('NPRO,masc,3per,Anph sing,accs'), normal_form='он', score=0.23913, methods_stack=((DictionaryAnalyzer(), 'его', 2303, 5),)),\n",
       " Parse(word='гастролей', tag=OpencorporaTag('NOUN,inan,femn plur,gent'), normal_form='гастроль', score=1.0, methods_stack=((DictionaryAnalyzer(), 'гастролей', 13, 7),))]"
      ]
     },
     "execution_count": 16,
     "metadata": {},
     "output_type": "execute_result"
    }
   ],
   "source": [
    "morph_data[0]"
   ]
  },
  {
   "cell_type": "code",
   "execution_count": 17,
   "id": "53aeb23e-bb40-4448-a8d1-8c2b07c0a192",
   "metadata": {
    "tags": []
   },
   "outputs": [],
   "source": [
    "def extract_lemma(texts):\n",
    "    norm = []\n",
    "    for t in texts:\n",
    "        res = []\n",
    "        for word in t:\n",
    "            n = word.normal_form\n",
    "            res.append(n)\n",
    "        norm.append(res)\n",
    "    return norm"
   ]
  },
  {
   "cell_type": "code",
   "execution_count": 18,
   "id": "a3d7f54a-a45f-4872-b864-902bb8b960d8",
   "metadata": {
    "tags": []
   },
   "outputs": [],
   "source": [
    "data_norm = extract_lemma(morph_data)"
   ]
  },
  {
   "cell_type": "code",
   "execution_count": 19,
   "id": "aac02a5a-fefa-4929-acb3-d853a91e5616",
   "metadata": {
    "tags": []
   },
   "outputs": [
    {
     "data": {
      "text/plain": [
       "['дима',\n",
       " 'билан',\n",
       " 'декабрь',\n",
       " 'исполниться',\n",
       " '40',\n",
       " 'год',\n",
       " ',',\n",
       " 'он',\n",
       " 'до',\n",
       " 'сей',\n",
       " 'пора',\n",
       " 'ни',\n",
       " 'раз',\n",
       " 'не',\n",
       " 'быть',\n",
       " 'женатый',\n",
       " '.',\n",
       " 'сначала',\n",
       " 'он',\n",
       " 'быть',\n",
       " 'не',\n",
       " 'до',\n",
       " 'это',\n",
       " 'певец',\n",
       " 'строить',\n",
       " 'карьера',\n",
       " 'быть',\n",
       " 'сосредоточить',\n",
       " 'на',\n",
       " 'работа',\n",
       " '.',\n",
       " 'сейчас',\n",
       " 'же',\n",
       " 'жизнь',\n",
       " 'артист',\n",
       " ',',\n",
       " 'как',\n",
       " 'говорить',\n",
       " ',',\n",
       " 'многое',\n",
       " 'измениться',\n",
       " '.',\n",
       " 'он',\n",
       " 'якобы',\n",
       " 'жить',\n",
       " 'некий',\n",
       " 'алёна',\n",
       " 'усачёв',\n",
       " ',',\n",
       " 'один',\n",
       " 'из',\n",
       " 'он',\n",
       " 'фанатка',\n",
       " '.',\n",
       " 'говорить',\n",
       " ',',\n",
       " 'что',\n",
       " 'билан',\n",
       " 'даже',\n",
       " 'собираться',\n",
       " 'сделать',\n",
       " 'она',\n",
       " 'предложение',\n",
       " ',',\n",
       " 'однако',\n",
       " 'против',\n",
       " 'свадьба',\n",
       " 'выступать',\n",
       " 'ян',\n",
       " 'рудковский',\n",
       " '.',\n",
       " 'светский',\n",
       " 'львица',\n",
       " 'считать',\n",
       " ',',\n",
       " 'что',\n",
       " 'женитьба',\n",
       " 'мочь',\n",
       " 'негативно',\n",
       " 'сказать',\n",
       " 'на',\n",
       " 'творческий',\n",
       " 'успех',\n",
       " 'билан',\n",
       " '.',\n",
       " 'кроме',\n",
       " 'тот',\n",
       " ',',\n",
       " 'она',\n",
       " 'подозревать',\n",
       " ',',\n",
       " 'что',\n",
       " 'певец',\n",
       " 'мочь',\n",
       " 'использовать',\n",
       " '.',\n",
       " 'не',\n",
       " 'секрет',\n",
       " ',',\n",
       " 'что',\n",
       " 'дима',\n",
       " 'богатый',\n",
       " 'человек',\n",
       " 'он',\n",
       " 'деньга',\n",
       " 'мочь',\n",
       " 'привлечь',\n",
       " 'внимание',\n",
       " 'мошенник',\n",
       " '«',\n",
       " 'вообще',\n",
       " 'дима',\n",
       " 'ни',\n",
       " 'что',\n",
       " 'жениться',\n",
       " '.',\n",
       " 'потому',\n",
       " 'что',\n",
       " 'он',\n",
       " 'развести',\n",
       " 'на',\n",
       " 'бабло',\n",
       " ',',\n",
       " 'бабло',\n",
       " 'дима',\n",
       " 'много',\n",
       " 'зарабатывать',\n",
       " '.',\n",
       " 'пусть',\n",
       " 'пока',\n",
       " 'просто',\n",
       " 'так',\n",
       " 'гулять',\n",
       " '!',\n",
       " '»',\n",
       " '—',\n",
       " 'цитировать',\n",
       " 'рудковский',\n",
       " 'эг',\n",
       " '.',\n",
       " 'кстати',\n",
       " ',',\n",
       " 'звёздный',\n",
       " 'блондинка',\n",
       " 'не',\n",
       " 'стать',\n",
       " 'отрицать',\n",
       " ',',\n",
       " 'что',\n",
       " 'билан',\n",
       " 'много',\n",
       " 'время',\n",
       " 'проводить',\n",
       " 'компания',\n",
       " 'усачёв',\n",
       " ',',\n",
       " 'но',\n",
       " 'статус',\n",
       " 'они',\n",
       " 'отношение',\n",
       " 'решить',\n",
       " 'не',\n",
       " 'раскрывать',\n",
       " '.',\n",
       " '«',\n",
       " 'она',\n",
       " 'хороший',\n",
       " 'девочка',\n",
       " ',',\n",
       " 'предать',\n",
       " '.',\n",
       " 'что',\n",
       " 'он',\n",
       " 'там',\n",
       " 'она',\n",
       " 'делать',\n",
       " 'я',\n",
       " 'это',\n",
       " 'абсолютно',\n",
       " 'не',\n",
       " 'интересовать',\n",
       " '»',\n",
       " ',',\n",
       " 'говорить',\n",
       " 'рудковский',\n",
       " 'работа',\n",
       " 'хостёс',\n",
       " 'план',\n",
       " 'на',\n",
       " '«',\n",
       " 'евровидение',\n",
       " '»',\n",
       " ':',\n",
       " 'сестра',\n",
       " 'дима',\n",
       " 'билан',\n",
       " 'раскрыть',\n",
       " 'всё',\n",
       " 'секрет',\n",
       " 'читать',\n",
       " 'материал',\n",
       " 'кстати',\n",
       " ',',\n",
       " 'этот',\n",
       " 'осень',\n",
       " 'стать',\n",
       " 'известно',\n",
       " ',',\n",
       " 'что',\n",
       " 'билан',\n",
       " 'войти',\n",
       " 'число',\n",
       " 'артист',\n",
       " 'продюсерский',\n",
       " 'центр',\n",
       " 'арам',\n",
       " 'арчер',\n",
       " '.',\n",
       " 'при',\n",
       " 'это',\n",
       " 'певец',\n",
       " 'не',\n",
       " 'прекратить',\n",
       " 'сотрудничество',\n",
       " 'рудковский',\n",
       " ',',\n",
       " 'который',\n",
       " 'по-прежнему',\n",
       " 'заниматься',\n",
       " 'организация',\n",
       " 'он',\n",
       " 'гастроль']"
      ]
     },
     "execution_count": 19,
     "metadata": {},
     "output_type": "execute_result"
    }
   ],
   "source": [
    "data_norm[0]"
   ]
  },
  {
   "cell_type": "code",
   "execution_count": 20,
   "id": "4aa1d7f1-cf11-4f35-9dad-281a080aab8f",
   "metadata": {
    "tags": []
   },
   "outputs": [],
   "source": [
    "data_norm = [w for w in data_norm if not w in new_words]"
   ]
  },
  {
   "cell_type": "code",
   "execution_count": 21,
   "id": "9e146977-45c6-41c8-a1c5-79d71a67a0cb",
   "metadata": {
    "tags": []
   },
   "outputs": [
    {
     "data": {
      "text/plain": [
       "['дима',\n",
       " 'билан',\n",
       " 'декабрь',\n",
       " 'исполниться',\n",
       " '40',\n",
       " 'год',\n",
       " ',',\n",
       " 'он',\n",
       " 'до',\n",
       " 'сей',\n",
       " 'пора',\n",
       " 'ни',\n",
       " 'раз',\n",
       " 'не',\n",
       " 'быть',\n",
       " 'женатый',\n",
       " '.',\n",
       " 'сначала',\n",
       " 'он',\n",
       " 'быть',\n",
       " 'не',\n",
       " 'до',\n",
       " 'это',\n",
       " 'певец',\n",
       " 'строить',\n",
       " 'карьера',\n",
       " 'быть',\n",
       " 'сосредоточить',\n",
       " 'на',\n",
       " 'работа',\n",
       " '.',\n",
       " 'сейчас',\n",
       " 'же',\n",
       " 'жизнь',\n",
       " 'артист',\n",
       " ',',\n",
       " 'как',\n",
       " 'говорить',\n",
       " ',',\n",
       " 'многое',\n",
       " 'измениться',\n",
       " '.',\n",
       " 'он',\n",
       " 'якобы',\n",
       " 'жить',\n",
       " 'некий',\n",
       " 'алёна',\n",
       " 'усачёв',\n",
       " ',',\n",
       " 'один',\n",
       " 'из',\n",
       " 'он',\n",
       " 'фанатка',\n",
       " '.',\n",
       " 'говорить',\n",
       " ',',\n",
       " 'что',\n",
       " 'билан',\n",
       " 'даже',\n",
       " 'собираться',\n",
       " 'сделать',\n",
       " 'она',\n",
       " 'предложение',\n",
       " ',',\n",
       " 'однако',\n",
       " 'против',\n",
       " 'свадьба',\n",
       " 'выступать',\n",
       " 'ян',\n",
       " 'рудковский',\n",
       " '.',\n",
       " 'светский',\n",
       " 'львица',\n",
       " 'считать',\n",
       " ',',\n",
       " 'что',\n",
       " 'женитьба',\n",
       " 'мочь',\n",
       " 'негативно',\n",
       " 'сказать',\n",
       " 'на',\n",
       " 'творческий',\n",
       " 'успех',\n",
       " 'билан',\n",
       " '.',\n",
       " 'кроме',\n",
       " 'тот',\n",
       " ',',\n",
       " 'она',\n",
       " 'подозревать',\n",
       " ',',\n",
       " 'что',\n",
       " 'певец',\n",
       " 'мочь',\n",
       " 'использовать',\n",
       " '.',\n",
       " 'не',\n",
       " 'секрет',\n",
       " ',',\n",
       " 'что',\n",
       " 'дима',\n",
       " 'богатый',\n",
       " 'человек',\n",
       " 'он',\n",
       " 'деньга',\n",
       " 'мочь',\n",
       " 'привлечь',\n",
       " 'внимание',\n",
       " 'мошенник',\n",
       " '«',\n",
       " 'вообще',\n",
       " 'дима',\n",
       " 'ни',\n",
       " 'что',\n",
       " 'жениться',\n",
       " '.',\n",
       " 'потому',\n",
       " 'что',\n",
       " 'он',\n",
       " 'развести',\n",
       " 'на',\n",
       " 'бабло',\n",
       " ',',\n",
       " 'бабло',\n",
       " 'дима',\n",
       " 'много',\n",
       " 'зарабатывать',\n",
       " '.',\n",
       " 'пусть',\n",
       " 'пока',\n",
       " 'просто',\n",
       " 'так',\n",
       " 'гулять',\n",
       " '!',\n",
       " '»',\n",
       " '—',\n",
       " 'цитировать',\n",
       " 'рудковский',\n",
       " 'эг',\n",
       " '.',\n",
       " 'кстати',\n",
       " ',',\n",
       " 'звёздный',\n",
       " 'блондинка',\n",
       " 'не',\n",
       " 'стать',\n",
       " 'отрицать',\n",
       " ',',\n",
       " 'что',\n",
       " 'билан',\n",
       " 'много',\n",
       " 'время',\n",
       " 'проводить',\n",
       " 'компания',\n",
       " 'усачёв',\n",
       " ',',\n",
       " 'но',\n",
       " 'статус',\n",
       " 'они',\n",
       " 'отношение',\n",
       " 'решить',\n",
       " 'не',\n",
       " 'раскрывать',\n",
       " '.',\n",
       " '«',\n",
       " 'она',\n",
       " 'хороший',\n",
       " 'девочка',\n",
       " ',',\n",
       " 'предать',\n",
       " '.',\n",
       " 'что',\n",
       " 'он',\n",
       " 'там',\n",
       " 'она',\n",
       " 'делать',\n",
       " 'я',\n",
       " 'это',\n",
       " 'абсолютно',\n",
       " 'не',\n",
       " 'интересовать',\n",
       " '»',\n",
       " ',',\n",
       " 'говорить',\n",
       " 'рудковский',\n",
       " 'работа',\n",
       " 'хостёс',\n",
       " 'план',\n",
       " 'на',\n",
       " '«',\n",
       " 'евровидение',\n",
       " '»',\n",
       " ':',\n",
       " 'сестра',\n",
       " 'дима',\n",
       " 'билан',\n",
       " 'раскрыть',\n",
       " 'всё',\n",
       " 'секрет',\n",
       " 'читать',\n",
       " 'материал',\n",
       " 'кстати',\n",
       " ',',\n",
       " 'этот',\n",
       " 'осень',\n",
       " 'стать',\n",
       " 'известно',\n",
       " ',',\n",
       " 'что',\n",
       " 'билан',\n",
       " 'войти',\n",
       " 'число',\n",
       " 'артист',\n",
       " 'продюсерский',\n",
       " 'центр',\n",
       " 'арам',\n",
       " 'арчер',\n",
       " '.',\n",
       " 'при',\n",
       " 'это',\n",
       " 'певец',\n",
       " 'не',\n",
       " 'прекратить',\n",
       " 'сотрудничество',\n",
       " 'рудковский',\n",
       " ',',\n",
       " 'который',\n",
       " 'по-прежнему',\n",
       " 'заниматься',\n",
       " 'организация',\n",
       " 'он',\n",
       " 'гастроль']"
      ]
     },
     "execution_count": 21,
     "metadata": {},
     "output_type": "execute_result"
    }
   ],
   "source": [
    "data_norm[0]"
   ]
  },
  {
   "cell_type": "code",
   "execution_count": 22,
   "id": "68ab64b8-b77b-4240-93f7-d56fd54e916a",
   "metadata": {
    "tags": []
   },
   "outputs": [
    {
     "data": {
      "text/plain": [
       "232"
      ]
     },
     "execution_count": 22,
     "metadata": {},
     "output_type": "execute_result"
    }
   ],
   "source": [
    "len(data_norm[0])"
   ]
  },
  {
   "cell_type": "code",
   "execution_count": 23,
   "id": "8e39a165-cb6a-4cfc-a989-22122a456d09",
   "metadata": {
    "tags": []
   },
   "outputs": [],
   "source": [
    "max_len_data = 0\n",
    "for i in range(len(data_norm)):\n",
    "    if len(data_norm[i]) > max_len_data:\n",
    "        max_len_data = len(data_norm[i])"
   ]
  },
  {
   "cell_type": "code",
   "execution_count": 24,
   "id": "4788693d-49f3-4e54-b084-59d2984ceb87",
   "metadata": {
    "tags": []
   },
   "outputs": [
    {
     "data": {
      "text/plain": [
       "280"
      ]
     },
     "execution_count": 24,
     "metadata": {},
     "output_type": "execute_result"
    }
   ],
   "source": [
    "max_len_data"
   ]
  },
  {
   "cell_type": "code",
   "execution_count": 25,
   "id": "ce68134a-e4bf-49c3-8cf3-c5b2accfd2c3",
   "metadata": {
    "tags": []
   },
   "outputs": [],
   "source": [
    "X_train, X_test, y_train, y_test = train_test_split(data_norm, df['ClassEncoded'], random_state = 2020, test_size = 0.2)"
   ]
  },
  {
   "cell_type": "code",
   "execution_count": 26,
   "id": "4f143e06-6f65-4423-8052-93a189786756",
   "metadata": {
    "tags": []
   },
   "outputs": [],
   "source": [
    "#ytrain_encoded = tf.keras.utils.to_categorical(y_train, num_classes=6, dtype = 'int32')\n",
    "#ytest_encoded = tf.keras.utils.to_categorical(y_test, num_classes=6, dtype = 'int32')"
   ]
  },
  {
   "cell_type": "code",
   "execution_count": 27,
   "id": "9e84a56c-0614-4521-85fb-854d9ae9acba",
   "metadata": {
    "tags": []
   },
   "outputs": [],
   "source": [
    "#X_train = [str (item) for item in X_train]"
   ]
  },
  {
   "cell_type": "code",
   "execution_count": 28,
   "id": "eb91b0cc-aa07-41b8-9d74-5ba1b0fd03f2",
   "metadata": {
    "tags": []
   },
   "outputs": [],
   "source": [
    "#X_test = [str (item) for item in X_test]"
   ]
  },
  {
   "cell_type": "code",
   "execution_count": 29,
   "id": "24014030-8848-4ef3-bc18-3e21a6916e18",
   "metadata": {},
   "outputs": [],
   "source": [
    "#TfidfVec = TfidfVectorizer(ngram_range = (1, 1))\n",
    "#X_train_tfidf = TfidfVec.fit_transform(X_train)\n",
    "#X_test_tfidf = TfidfVec.transform(X_test)"
   ]
  },
  {
   "cell_type": "code",
   "execution_count": 30,
   "id": "3079ae4c-647d-4683-9f60-f2c1eba5f48c",
   "metadata": {
    "tags": []
   },
   "outputs": [],
   "source": [
    "le = LabelEncoder()\n",
    "y_train_number = le.fit_transform(y_train)\n",
    "y_test_number = le.fit_transform(y_test)"
   ]
  },
  {
   "cell_type": "code",
   "execution_count": 31,
   "id": "49a9e538-86c2-4b74-82c0-75f3f074f635",
   "metadata": {
    "tags": []
   },
   "outputs": [
    {
     "data": {
      "text/plain": [
       "array([1, 4, 5, ..., 0, 0, 5], dtype=int64)"
      ]
     },
     "execution_count": 31,
     "metadata": {},
     "output_type": "execute_result"
    }
   ],
   "source": [
    "y_train_number"
   ]
  },
  {
   "cell_type": "code",
   "execution_count": 32,
   "id": "3a8b96b4-6423-4137-a3ca-a1e92f733c8a",
   "metadata": {
    "tags": []
   },
   "outputs": [],
   "source": [
    "dict_train = {'tokens': X_train, 'label': y_train_number} "
   ]
  },
  {
   "cell_type": "code",
   "execution_count": 33,
   "id": "fabcf6ca-258f-4455-8cc7-24650a46d909",
   "metadata": {
    "tags": []
   },
   "outputs": [],
   "source": [
    "data_train = pd.DataFrame(dict_train)"
   ]
  },
  {
   "cell_type": "code",
   "execution_count": 34,
   "id": "c27bdec3-7384-452e-a0de-09535c2036fc",
   "metadata": {
    "tags": []
   },
   "outputs": [],
   "source": [
    "dict_test = {'tokens': X_test, 'label': y_test_number} "
   ]
  },
  {
   "cell_type": "code",
   "execution_count": 35,
   "id": "0e8c6c22-afe0-4f9a-aee8-1e107147e807",
   "metadata": {
    "tags": []
   },
   "outputs": [],
   "source": [
    "data_test = pd.DataFrame(dict_test)"
   ]
  },
  {
   "cell_type": "code",
   "execution_count": 36,
   "id": "6055f7ff-25af-45ad-94b8-4c1c27dc8021",
   "metadata": {
    "tags": []
   },
   "outputs": [],
   "source": [
    "token = text.Tokenizer(num_words=None)"
   ]
  },
  {
   "cell_type": "code",
   "execution_count": 37,
   "id": "e7aab953-bd41-468b-8771-5ea28d829bd9",
   "metadata": {
    "tags": []
   },
   "outputs": [],
   "source": [
    "token.fit_on_texts(list(X_train) + list(X_test))"
   ]
  },
  {
   "cell_type": "code",
   "execution_count": 38,
   "id": "14e23fe0-926e-41ee-81df-d6c19e70dc0c",
   "metadata": {
    "tags": []
   },
   "outputs": [],
   "source": [
    "xtrain_seq = token.texts_to_sequences(X_train)"
   ]
  },
  {
   "cell_type": "code",
   "execution_count": 39,
   "id": "1fa19b80-5222-426b-98d4-9be457c1d581",
   "metadata": {
    "tags": []
   },
   "outputs": [],
   "source": [
    "xtest_seq = token.texts_to_sequences(X_test)"
   ]
  },
  {
   "cell_type": "code",
   "execution_count": 40,
   "id": "79435cb3-a0d0-4fe7-af4e-b8659829a09c",
   "metadata": {
    "tags": []
   },
   "outputs": [],
   "source": [
    "xtrain_pad = sequence.pad_sequences(xtrain_seq, maxlen=max_len_data)"
   ]
  },
  {
   "cell_type": "code",
   "execution_count": 41,
   "id": "a5f1eaa2-f852-4fb0-935e-47a51f816eff",
   "metadata": {
    "tags": []
   },
   "outputs": [],
   "source": [
    "xtest_pad = sequence.pad_sequences(xtest_seq, maxlen=max_len_data)"
   ]
  },
  {
   "cell_type": "code",
   "execution_count": 42,
   "id": "7e74f3f5-5960-48fa-ab78-db8a0dfe957d",
   "metadata": {
    "tags": []
   },
   "outputs": [],
   "source": [
    "word_index = token.word_index"
   ]
  },
  {
   "cell_type": "code",
   "execution_count": 43,
   "id": "b4441b1d-b7c9-4e4d-8a1c-d9e688b23b82",
   "metadata": {
    "tags": []
   },
   "outputs": [
    {
     "name": "stderr",
     "output_type": "stream",
     "text": [
      "9414it [00:01, 8991.66it/s]"
     ]
    },
    {
     "name": "stdout",
     "output_type": "stream",
     "text": [
      "Found 9414 word vectors.\n"
     ]
    },
    {
     "name": "stderr",
     "output_type": "stream",
     "text": [
      "\n"
     ]
    }
   ],
   "source": [
    "embeddings_index = {}\n",
    "f = open('word2vecsg100','r',encoding='utf-8')\n",
    "for line in tqdm(f):\n",
    "    values = line.split(' ')\n",
    "    word = values[0]\n",
    "    coefs = np.asarray([float(val) for val in values[1:]])\n",
    "    embeddings_index[word] = coefs\n",
    "f.close()\n",
    "\n",
    "print('Found %s word vectors.' % len(embeddings_index))"
   ]
  },
  {
   "cell_type": "code",
   "execution_count": 44,
   "id": "135aa166-3bc4-49c0-83ad-f6178e383870",
   "metadata": {
    "tags": []
   },
   "outputs": [
    {
     "name": "stderr",
     "output_type": "stream",
     "text": [
      "100%|██████████| 34428/34428 [00:00<00:00, 1046577.26it/s]\n"
     ]
    }
   ],
   "source": [
    "embedding_matrix = np.zeros((len(word_index) + 1, 300))\n",
    "for word, i in tqdm(word_index.items()):\n",
    "    embedding_vector = embeddings_index.get(word)\n",
    "    if embedding_vector is not None:\n",
    "        embedding_matrix[i] = embedding_vector"
   ]
  },
  {
   "cell_type": "code",
   "execution_count": null,
   "id": "2e53d3b8-5f0c-4b42-b596-a610deabf001",
   "metadata": {},
   "outputs": [],
   "source": []
  },
  {
   "cell_type": "code",
   "execution_count": 45,
   "id": "73a68c3e-cff5-4292-afcf-319b96a8d453",
   "metadata": {
    "tags": []
   },
   "outputs": [],
   "source": [
    "#word2vec = KeyedVectors.load_word2vec_format(\"word2veccbow\")"
   ]
  },
  {
   "cell_type": "code",
   "execution_count": 46,
   "id": "ede177e0-a0c1-4a8a-a4f4-4a227d6ae14b",
   "metadata": {
    "tags": []
   },
   "outputs": [],
   "source": [
    "#word2vec_len = len(word2vec)"
   ]
  },
  {
   "cell_type": "code",
   "execution_count": 47,
   "id": "80648114-f44c-4425-a77a-ed2b4bb34e4e",
   "metadata": {
    "tags": []
   },
   "outputs": [],
   "source": [
    "#word2vec_len"
   ]
  },
  {
   "cell_type": "code",
   "execution_count": 48,
   "id": "be675007-3603-4f00-9220-586c89481684",
   "metadata": {},
   "outputs": [],
   "source": [
    "#X_train_embed = get_word2vec_embeddings(word2vec, data_train['tokens'])\n",
    "#X_test_embed = get_word2vec_embeddings(word2vec, data_test['tokens'])\n",
    "\n",
    "#fig = plt.figure(figsize = (8, 7))          \n",
    "#plot_embedding(X_train_embed, y_train_number)\n",
    "#plt.show()"
   ]
  },
  {
   "cell_type": "code",
   "execution_count": 49,
   "id": "e49b4fce-3b30-4b3a-bd70-3a6e1cfbe1b1",
   "metadata": {},
   "outputs": [],
   "source": [
    "#X_train_w2v = scipy.sparse.csr_matrix(X_train_embed)\n",
    "#X_test_w2v = scipy.sparse.csr_matrix(X_test_embed)"
   ]
  },
  {
   "cell_type": "code",
   "execution_count": 50,
   "id": "2868329f-b1f9-4533-9f83-2ed22fe386fe",
   "metadata": {
    "tags": []
   },
   "outputs": [],
   "source": [
    "#X_train_w2v.shape"
   ]
  },
  {
   "cell_type": "code",
   "execution_count": 51,
   "id": "c8207bd9-5679-4772-b70d-cd43de4d0f2e",
   "metadata": {
    "tags": []
   },
   "outputs": [],
   "source": [
    "#X_train_w2v = tf.expand_dims(X_train_embed, axis=-1)\n",
    "#X_test_w2v = tf.expand_dims(X_test_embed, axis=-1)"
   ]
  },
  {
   "cell_type": "code",
   "execution_count": 52,
   "id": "5fbedfcb-305d-4ffa-9c55-d25f2972580f",
   "metadata": {
    "tags": []
   },
   "outputs": [],
   "source": [
    "#X_train_w2v.shape"
   ]
  },
  {
   "cell_type": "code",
   "execution_count": 53,
   "id": "3d1d8d2d-47d1-431f-8120-9f3a580eae31",
   "metadata": {
    "tags": []
   },
   "outputs": [],
   "source": [
    "def build_lstm_model(embedding_matrix, max_sequence_length):\n",
    "    # Input layer\n",
    "    input_layer = Input(shape=(max_sequence_length,), dtype='int32')\n",
    "    \n",
    "    # Word embedding layer\n",
    "    embedding_layer = Embedding(input_dim=34428+1,\n",
    "                                output_dim=300,\n",
    "                                weights=[embedding_matrix],\n",
    "                                input_length=max_sequence_length,\n",
    "                                trainable=True)(input_layer)\n",
    "    \n",
    "    # LSTM model layer\n",
    "    lstm_layer = SimpleRNN(units=128,\n",
    "                      dropout=0.5,\n",
    "                      return_sequences=False)(embedding_layer)\n",
    "    batch_normalization = BatchNormalization()(lstm_layer)\n",
    "    '''\n",
    "    lstm_layer = LSTM(units=128,\n",
    "                      dropout=0.5,\n",
    "                      return_sequences=False)(batch_normalization)\n",
    "    batch_normalization = BatchNormalization()(lstm_layer)\n",
    "    '''\n",
    "    # Dense model layer\n",
    "    dense_layer = Dense(units=128, activation='relu')(batch_normalization)\n",
    "    dropout_layer = Dropout(rate=0.5)(dense_layer)\n",
    "    batch_normalization = BatchNormalization()(dropout_layer)\n",
    "    \n",
    "    output_layer = Dense(units=6, activation='softmax')(batch_normalization)\n",
    "\n",
    "    lstm_model = Model(inputs=input_layer, outputs=output_layer)\n",
    "\n",
    "    return lstm_model"
   ]
  },
  {
   "cell_type": "code",
   "execution_count": 54,
   "id": "ef41ebcf-ee06-491d-af0f-20781f11c483",
   "metadata": {
    "tags": []
   },
   "outputs": [],
   "source": [
    "lstm_model = build_lstm_model(embedding_matrix, max_len_data)"
   ]
  },
  {
   "cell_type": "code",
   "execution_count": 55,
   "id": "ec65f5fc-846c-4491-807a-ba973bfd1652",
   "metadata": {
    "tags": []
   },
   "outputs": [
    {
     "name": "stdout",
     "output_type": "stream",
     "text": [
      "Model: \"model\"\n",
      "_________________________________________________________________\n",
      "Layer (type)                 Output Shape              Param #   \n",
      "=================================================================\n",
      "input_1 (InputLayer)         [(None, 280)]             0         \n",
      "_________________________________________________________________\n",
      "embedding (Embedding)        (None, 280, 300)          10328700  \n",
      "_________________________________________________________________\n",
      "simple_rnn (SimpleRNN)       (None, 128)               54912     \n",
      "_________________________________________________________________\n",
      "batch_normalization (BatchNo (None, 128)               512       \n",
      "_________________________________________________________________\n",
      "dense (Dense)                (None, 128)               16512     \n",
      "_________________________________________________________________\n",
      "dropout (Dropout)            (None, 128)               0         \n",
      "_________________________________________________________________\n",
      "batch_normalization_1 (Batch (None, 128)               512       \n",
      "_________________________________________________________________\n",
      "dense_1 (Dense)              (None, 6)                 774       \n",
      "=================================================================\n",
      "Total params: 10,401,922\n",
      "Trainable params: 10,401,410\n",
      "Non-trainable params: 512\n",
      "_________________________________________________________________\n"
     ]
    }
   ],
   "source": [
    "lstm_model.summary()"
   ]
  },
  {
   "cell_type": "code",
   "execution_count": 56,
   "id": "7cd36192-80d1-4769-adca-08b73d2cbeff",
   "metadata": {
    "tags": []
   },
   "outputs": [],
   "source": [
    "lstm_model.compile(loss='sparse_categorical_crossentropy',\n",
    "                               optimizer=Adam(learning_rate=0.001),\n",
    "                               metrics=['accuracy'])"
   ]
  },
  {
   "cell_type": "code",
   "execution_count": 57,
   "id": "05a405d9-1b7e-4ac7-9839-498ccb57ee93",
   "metadata": {
    "tags": []
   },
   "outputs": [],
   "source": [
    "callbacks = [EarlyStopping(monitor='val_loss', patience=7),\n",
    "         ModelCheckpoint(filepath='sg_100_rnn.h5', monitor='val_loss', save_best_only=True)]"
   ]
  },
  {
   "cell_type": "code",
   "execution_count": 58,
   "id": "d735d69e-bf24-4622-961d-3701a1fe5093",
   "metadata": {
    "tags": []
   },
   "outputs": [
    {
     "name": "stdout",
     "output_type": "stream",
     "text": [
      "Epoch 1/20\n",
      "21/21 [==============================] - 41s 1s/step - loss: 2.0439 - accuracy: 0.2553 - val_loss: 1.7003 - val_accuracy: 0.2938\n",
      "Epoch 2/20\n",
      "21/21 [==============================] - 29s 1s/step - loss: 1.3382 - accuracy: 0.4315 - val_loss: 1.0501 - val_accuracy: 0.4802\n",
      "Epoch 3/20\n",
      "21/21 [==============================] - 29s 1s/step - loss: 1.0070 - accuracy: 0.5103 - val_loss: 1.0022 - val_accuracy: 0.4878\n",
      "Epoch 4/20\n",
      "21/21 [==============================] - 29s 1s/step - loss: 0.9091 - accuracy: 0.5200 - val_loss: 0.7627 - val_accuracy: 0.5145\n",
      "Epoch 5/20\n",
      "21/21 [==============================] - 28s 1s/step - loss: 0.8654 - accuracy: 0.5346 - val_loss: 0.7337 - val_accuracy: 0.5274\n",
      "Epoch 6/20\n",
      "21/21 [==============================] - 28s 1s/step - loss: 0.8452 - accuracy: 0.5531 - val_loss: 0.8325 - val_accuracy: 0.5289\n",
      "Epoch 7/20\n",
      "21/21 [==============================] - 28s 1s/step - loss: 0.7642 - accuracy: 0.5826 - val_loss: 0.7457 - val_accuracy: 0.5320\n",
      "Epoch 8/20\n",
      "21/21 [==============================] - 28s 1s/step - loss: 0.7626 - accuracy: 0.5841 - val_loss: 0.8486 - val_accuracy: 0.5167\n",
      "Epoch 9/20\n",
      "21/21 [==============================] - 28s 1s/step - loss: 0.7360 - accuracy: 0.6046 - val_loss: 0.8932 - val_accuracy: 0.5289\n",
      "Epoch 10/20\n",
      "21/21 [==============================] - 28s 1s/step - loss: 0.6883 - accuracy: 0.6303 - val_loss: 0.7268 - val_accuracy: 0.5510\n",
      "Epoch 11/20\n",
      "21/21 [==============================] - 28s 1s/step - loss: 0.7027 - accuracy: 0.6339 - val_loss: 0.7233 - val_accuracy: 0.5670\n",
      "Epoch 12/20\n",
      "21/21 [==============================] - 27s 1s/step - loss: 0.6734 - accuracy: 0.6564 - val_loss: 0.7730 - val_accuracy: 0.5518\n",
      "Epoch 13/20\n",
      "21/21 [==============================] - 27s 1s/step - loss: 0.6560 - accuracy: 0.6674 - val_loss: 0.8889 - val_accuracy: 0.5403\n",
      "Epoch 14/20\n",
      "21/21 [==============================] - 28s 1s/step - loss: 0.7110 - accuracy: 0.6703 - val_loss: 0.7583 - val_accuracy: 0.5822\n",
      "Epoch 15/20\n",
      "21/21 [==============================] - 27s 1s/step - loss: 0.6333 - accuracy: 0.6950 - val_loss: 0.7220 - val_accuracy: 0.5830\n",
      "Epoch 16/20\n",
      "21/21 [==============================] - 27s 1s/step - loss: 0.5862 - accuracy: 0.7209 - val_loss: 0.7487 - val_accuracy: 0.5959\n",
      "Epoch 17/20\n",
      "21/21 [==============================] - 28s 1s/step - loss: 0.5536 - accuracy: 0.7494 - val_loss: 0.7794 - val_accuracy: 0.5791\n",
      "Epoch 18/20\n",
      "21/21 [==============================] - 27s 1s/step - loss: 0.5320 - accuracy: 0.7603 - val_loss: 0.8703 - val_accuracy: 0.5807\n",
      "Epoch 19/20\n",
      "21/21 [==============================] - 27s 1s/step - loss: 0.5005 - accuracy: 0.7766 - val_loss: 0.8182 - val_accuracy: 0.6104\n",
      "Epoch 20/20\n",
      "21/21 [==============================] - 27s 1s/step - loss: 0.4648 - accuracy: 0.8038 - val_loss: 0.9814 - val_accuracy: 0.5883\n"
     ]
    }
   ],
   "source": [
    "lstm_history = lstm_model.fit(xtrain_pad,y_train_number,validation_data=(xtest_pad,y_test_number),epochs=20,callbacks=callbacks,batch_size=256)"
   ]
  },
  {
   "cell_type": "code",
   "execution_count": 59,
   "id": "6effe082-0cad-432d-9e86-fe2abcad71d2",
   "metadata": {
    "tags": []
   },
   "outputs": [],
   "source": [
    "history_dict = lstm_history.history"
   ]
  },
  {
   "cell_type": "code",
   "execution_count": 60,
   "id": "fc388d1a-003b-4bd7-a9c3-e700003a9061",
   "metadata": {
    "tags": []
   },
   "outputs": [],
   "source": [
    "acc = history_dict['accuracy'] \n",
    "val_acc = history_dict['val_accuracy']"
   ]
  },
  {
   "cell_type": "code",
   "execution_count": 61,
   "id": "804215d0-f277-480b-a073-7f5419d26296",
   "metadata": {
    "tags": []
   },
   "outputs": [],
   "source": [
    "loss = history_dict['loss'] \n",
    "val_loss = history_dict['val_loss']"
   ]
  },
  {
   "cell_type": "code",
   "execution_count": 62,
   "id": "17fa11a8-ee03-421c-b134-74f42f411d69",
   "metadata": {
    "tags": []
   },
   "outputs": [
    {
     "data": {
      "image/png": "[encoded data removed]",
      "text/plain": [
       "<Figure size 800x400 with 2 Axes>"
      ]
     },
     "metadata": {},
     "output_type": "display_data"
    }
   ],
   "source": [
    "plt.figure(figsize=(8, 4)) \n",
    "plt.subplot(1, 2, 1) \n",
    "plt.plot(acc) \n",
    "plt.plot(val_acc) \n",
    "plt.title('Точность по эпохам') \n",
    "plt.xlabel('Эпохи') \n",
    "plt.ylabel('Точность') \n",
    "plt.legend(['Тренировочная точность', 'Тестовая точность']) \n",
    "  \n",
    "plt.subplot(1, 2, 2) \n",
    "plt.plot(loss) \n",
    "plt.plot(val_loss) \n",
    "plt.title('Потери по эпохам') \n",
    "plt.xlabel('Эпохи') \n",
    "plt.ylabel('Потери') \n",
    "plt.legend(['Тренировочные потери', 'Тестовые потери']) \n",
    "  \n",
    "plt.show()"
   ]
  },
  {
   "cell_type": "code",
   "execution_count": 63,
   "id": "c3a32902-5b4d-4701-ad02-ec363461a3d8",
   "metadata": {
    "tags": []
   },
   "outputs": [
    {
     "data": {
      "text/plain": [
       "{'loss': [2.0438523292541504,\n",
       "  1.3381977081298828,\n",
       "  1.0070453882217407,\n",
       "  0.9091064929962158,\n",
       "  0.8654113411903381,\n",
       "  0.8451847434043884,\n",
       "  0.7642120718955994,\n",
       "  0.7625985145568848,\n",
       "  0.7359525561332703,\n",
       "  0.6882905960083008,\n",
       "  0.7027094960212708,\n",
       "  0.6734057068824768,\n",
       "  0.6559903621673584,\n",
       "  0.7110394835472107,\n",
       "  0.633317768573761,\n",
       "  0.5861536264419556,\n",
       "  0.5536020994186401,\n",
       "  0.5319898724555969,\n",
       "  0.5005307793617249,\n",
       "  0.46481388807296753],\n",
       " 'accuracy': [0.2553272545337677,\n",
       "  0.43150684237480164,\n",
       "  0.5102739930152893,\n",
       "  0.5199771523475647,\n",
       "  0.5346270799636841,\n",
       "  0.5530821681022644,\n",
       "  0.5825722813606262,\n",
       "  0.5840943455696106,\n",
       "  0.6046423316001892,\n",
       "  0.6303272247314453,\n",
       "  0.633942186832428,\n",
       "  0.6563926935195923,\n",
       "  0.6674277186393738,\n",
       "  0.6702815890312195,\n",
       "  0.6950151920318604,\n",
       "  0.7208904027938843,\n",
       "  0.7494292259216309,\n",
       "  0.7602739930152893,\n",
       "  0.7766362428665161,\n",
       "  0.8038432002067566],\n",
       " 'val_loss': [1.700300693511963,\n",
       "  1.0500755310058594,\n",
       "  1.0022085905075073,\n",
       "  0.762665331363678,\n",
       "  0.733665406703949,\n",
       "  0.8324617743492126,\n",
       "  0.7456722259521484,\n",
       "  0.8486410975456238,\n",
       "  0.8931980729103088,\n",
       "  0.7267745733261108,\n",
       "  0.7233422994613647,\n",
       "  0.7729694247245789,\n",
       "  0.888875424861908,\n",
       "  0.7582961916923523,\n",
       "  0.7219723463058472,\n",
       "  0.748729944229126,\n",
       "  0.779434859752655,\n",
       "  0.8702898025512695,\n",
       "  0.8181832432746887,\n",
       "  0.9814338088035583],\n",
       " 'val_accuracy': [0.2937595248222351,\n",
       "  0.48021307587623596,\n",
       "  0.4878234267234802,\n",
       "  0.5144596695899963,\n",
       "  0.5273972749710083,\n",
       "  0.5289193391799927,\n",
       "  0.5319634675979614,\n",
       "  0.5167427659034729,\n",
       "  0.5289193391799927,\n",
       "  0.5509893298149109,\n",
       "  0.5669710636138916,\n",
       "  0.5517503619194031,\n",
       "  0.5403348803520203,\n",
       "  0.5821917653083801,\n",
       "  0.5829527974128723,\n",
       "  0.5958904027938843,\n",
       "  0.5791476368904114,\n",
       "  0.5806697010993958,\n",
       "  0.6103500723838806,\n",
       "  0.5882800817489624]}"
      ]
     },
     "execution_count": 63,
     "metadata": {},
     "output_type": "execute_result"
    }
   ],
   "source": [
    "lstm_history.history"
   ]
  },
  {
   "cell_type": "code",
   "execution_count": 64,
   "id": "53b9dbd9-fb1a-4c86-b4cb-6d99e07426c2",
   "metadata": {
    "tags": []
   },
   "outputs": [
    {
     "data": {
      "text/plain": [
       "[0.2937595248222351,\n",
       " 0.48021307587623596,\n",
       " 0.4878234267234802,\n",
       " 0.5144596695899963,\n",
       " 0.5273972749710083,\n",
       " 0.5289193391799927,\n",
       " 0.5319634675979614,\n",
       " 0.5167427659034729,\n",
       " 0.5289193391799927,\n",
       " 0.5509893298149109,\n",
       " 0.5669710636138916,\n",
       " 0.5517503619194031,\n",
       " 0.5403348803520203,\n",
       " 0.5821917653083801,\n",
       " 0.5829527974128723,\n",
       " 0.5958904027938843,\n",
       " 0.5791476368904114,\n",
       " 0.5806697010993958,\n",
       " 0.6103500723838806,\n",
       " 0.5882800817489624]"
      ]
     },
     "execution_count": 64,
     "metadata": {},
     "output_type": "execute_result"
    }
   ],
   "source": [
    "val_acc"
   ]
  },
  {
   "cell_type": "code",
   "execution_count": 65,
   "id": "6168c7b9-43ce-4eae-806b-9ef45f71c20a",
   "metadata": {
    "tags": []
   },
   "outputs": [],
   "source": [
    "def conf_mat(y_test, y_test_pred, figsize = (10, 8), font_scale = 1.2, annot_kws_size = 16):\n",
    "    class_names = ['Наука', 'Наук. слухи', 'Спорт', 'Спорт слухи', 'Шоу-биз', 'Шоу. слухи']\n",
    "    tick_marks_y = [0.5, 1.5, 2.5, 3.5, 4.5, 5.5]\n",
    "    tick_marks_x = [0.5, 1.5, 2.5, 3.5, 4.5, 5.5]\n",
    "    confusion_matrix = metrics.confusion_matrix(y_test, y_test_pred)\n",
    "    confusion_matrix_df = pd.DataFrame(confusion_matrix, range(6), range(6))\n",
    "    plt.figure(figsize = figsize)\n",
    "    sns.set(font_scale = font_scale)\n",
    "    plt.title(\"Confusion Matrix\")\n",
    "    sns.heatmap(confusion_matrix_df, annot = True, annot_kws = {\"size\": annot_kws_size}, fmt = 'd')\n",
    "    plt.yticks(tick_marks_y, class_names, rotation = 'vertical')\n",
    "    plt.xticks(tick_marks_x, class_names, rotation = 'horizontal')\n",
    "    plt.ylabel('True label')\n",
    "    plt.xlabel('Predicted label')\n",
    "    plt.grid(False)\n",
    "    plt.show()"
   ]
  },
  {
   "cell_type": "code",
   "execution_count": 66,
   "id": "ded98de0-dddb-4562-bff7-8cb3ac021a08",
   "metadata": {
    "tags": []
   },
   "outputs": [
    {
     "data": {
      "image/png": "[encoded data removed]",
      "text/plain": [
       "<Figure size 1000x800 with 2 Axes>"
      ]
     },
     "metadata": {},
     "output_type": "display_data"
    }
   ],
   "source": [
    "y_pred=lstm_model.predict(xtest_pad) \n",
    "y_pred=np.argmax(y_pred, axis=1)\n",
    "y_test=np.argmax(y_test_number, axis=0)\n",
    "\n",
    "#y_test_pred = lstm_model.predict(xtest_pad)\n",
    "#score_test = accuracy_score(y_test_number, y_test_pred)\n",
    "#print(pd.Series({\"Test accuracy\": score_test}).to_string())\n",
    "#print(\" \")\n",
    "conf_mat(y_test_number, y_pred, figsize = (10, 8), font_scale = 1.2, annot_kws_size = 16)"
   ]
  },
  {
   "cell_type": "code",
   "execution_count": null,
   "id": "bfda562e-de26-4ca9-8e46-9c62d8cfa5fd",
   "metadata": {},
   "outputs": [],
   "source": []
  }
 ],
 "metadata": {
  "kernelspec": {
   "display_name": "Python 3 (ipykernel)",
   "language": "python",
   "name": "python3"
  },
  "language_info": {
   "codemirror_mode": {
    "name": "ipython",
    "version": 3
   },
   "file_extension": ".py",
   "mimetype": "text/x-python",
   "name": "python",
   "nbconvert_exporter": "python",
   "pygments_lexer": "ipython3",
   "version": "3.9.18"
  }
 },
 "nbformat": 4,
 "nbformat_minor": 5
}
